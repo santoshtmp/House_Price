{
  "nbformat": 4,
  "nbformat_minor": 0,
  "metadata": {
    "colab": {
      "name": "case-study",
      "provenance": [],
      "collapsed_sections": [],
      "toc_visible": true,
      "mount_file_id": "1E7R1SJIonbql0rYqSkqVmBZ18f8BTmPa",
      "authorship_tag": "ABX9TyOQgHwqVl6IOhqBbjDm18Bc",
      "include_colab_link": true
    },
    "kernelspec": {
      "name": "python3",
      "display_name": "Python 3"
    },
    "language_info": {
      "name": "python"
    }
  },
  "cells": [
    {
      "cell_type": "markdown",
      "metadata": {
        "id": "view-in-github",
        "colab_type": "text"
      },
      "source": [
        "<a href=\"https://colab.research.google.com/github/santoshtmp/House_Price_banglor_flaskWEBAPP/blob/master/case_study.ipynb\" target=\"_parent\"><img src=\"https://colab.research.google.com/assets/colab-badge.svg\" alt=\"Open In Colab\"/></a>"
      ]
    },
    {
      "cell_type": "code",
      "metadata": {
        "id": "Ce0IRWpn2gGN"
      },
      "source": [
        "import pandas as pd\n",
        "import numpy as np \n",
        "import matplotlib.pyplot as plt\n",
        "%matplotlib inline\n",
        "import seaborn as sns\n",
        "\n",
        "## Display all the columns of the dataframe\n",
        "pd.pandas.set_option('display.max_columns',None)\n",
        "\n",
        "# chi2\n",
        "from scipy.stats import chi2_contingency"
      ],
      "execution_count": null,
      "outputs": []
    },
    {
      "cell_type": "code",
      "metadata": {
        "id": "ZEUEesZq4SD1"
      },
      "source": [
        "#load/read the train datasets\n",
        "dataset=pd.read_excel(\"/content/drive/My Drive/Colab_NB_Datasets/Case Study - Data Engineering Visualization Analyst.xlsx\",\"Recruiting Activity Data\")\n"
      ],
      "execution_count": null,
      "outputs": []
    },
    {
      "cell_type": "code",
      "metadata": {
        "colab": {
          "base_uri": "https://localhost:8080/",
          "height": 304
        },
        "id": "1KhrLCtu4-hq",
        "outputId": "56053451-635b-4e54-f210-8fa167d4f3f7"
      },
      "source": [
        "display(dataset.shape)\n",
        "dataset.head(3)"
      ],
      "execution_count": null,
      "outputs": [
        {
          "output_type": "display_data",
          "data": {
            "text/plain": [
              "(7410, 20)"
            ]
          },
          "metadata": {
            "tags": []
          }
        },
        {
          "output_type": "execute_result",
          "data": {
            "text/html": [
              "<div>\n",
              "<style scoped>\n",
              "    .dataframe tbody tr th:only-of-type {\n",
              "        vertical-align: middle;\n",
              "    }\n",
              "\n",
              "    .dataframe tbody tr th {\n",
              "        vertical-align: top;\n",
              "    }\n",
              "\n",
              "    .dataframe thead th {\n",
              "        text-align: right;\n",
              "    }\n",
              "</style>\n",
              "<table border=\"1\" class=\"dataframe\">\n",
              "  <thead>\n",
              "    <tr style=\"text-align: right;\">\n",
              "      <th></th>\n",
              "      <th>Unnamed: 0</th>\n",
              "      <th>Unnamed: 1</th>\n",
              "      <th>Unnamed: 2</th>\n",
              "      <th>Unnamed: 3</th>\n",
              "      <th>Unnamed: 4</th>\n",
              "      <th>Unnamed: 5</th>\n",
              "      <th>Unnamed: 6</th>\n",
              "      <th>Unnamed: 7</th>\n",
              "      <th>Unnamed: 8</th>\n",
              "      <th>Unnamed: 9</th>\n",
              "      <th>Unnamed: 10</th>\n",
              "      <th>Unnamed: 11</th>\n",
              "      <th>Unnamed: 12</th>\n",
              "      <th>Unnamed: 13</th>\n",
              "      <th>Unnamed: 14</th>\n",
              "      <th>Unnamed: 15</th>\n",
              "      <th>Unnamed: 16</th>\n",
              "      <th>Unnamed: 17</th>\n",
              "      <th>Unnamed: 18</th>\n",
              "      <th>Unnamed: 19</th>\n",
              "    </tr>\n",
              "  </thead>\n",
              "  <tbody>\n",
              "    <tr>\n",
              "      <th>0</th>\n",
              "      <td>NaN</td>\n",
              "      <td>NaN</td>\n",
              "      <td>NaN</td>\n",
              "      <td>NaN</td>\n",
              "      <td>NaN</td>\n",
              "      <td>NaN</td>\n",
              "      <td>NaN</td>\n",
              "      <td>NaN</td>\n",
              "      <td>Education 1</td>\n",
              "      <td>NaN</td>\n",
              "      <td>NaN</td>\n",
              "      <td>Education 2</td>\n",
              "      <td>NaN</td>\n",
              "      <td>NaN</td>\n",
              "      <td>Education 3</td>\n",
              "      <td>NaN</td>\n",
              "      <td>NaN</td>\n",
              "      <td>Education 4</td>\n",
              "      <td>NaN</td>\n",
              "      <td>NaN</td>\n",
              "    </tr>\n",
              "    <tr>\n",
              "      <th>1</th>\n",
              "      <td>Candidate ID Number</td>\n",
              "      <td>Position Title</td>\n",
              "      <td>Department</td>\n",
              "      <td>Furthest Recruiting Stage Reached</td>\n",
              "      <td>Date of Application</td>\n",
              "      <td>Application Source</td>\n",
              "      <td>Years of Experience</td>\n",
              "      <td>Candidate Type</td>\n",
              "      <td>Degree</td>\n",
              "      <td>School</td>\n",
              "      <td>Major</td>\n",
              "      <td>Degree</td>\n",
              "      <td>School</td>\n",
              "      <td>Major</td>\n",
              "      <td>Degree</td>\n",
              "      <td>School</td>\n",
              "      <td>Major</td>\n",
              "      <td>Degree</td>\n",
              "      <td>School</td>\n",
              "      <td>Major</td>\n",
              "    </tr>\n",
              "    <tr>\n",
              "      <th>2</th>\n",
              "      <td>3668741</td>\n",
              "      <td>Associate Product Manager</td>\n",
              "      <td>Product</td>\n",
              "      <td>New Application</td>\n",
              "      <td>2016-11-17 00:00:00</td>\n",
              "      <td>Campus Event</td>\n",
              "      <td>0</td>\n",
              "      <td>Campus</td>\n",
              "      <td>Bachelors</td>\n",
              "      <td>NYU</td>\n",
              "      <td>Computer Science</td>\n",
              "      <td>Bachelors</td>\n",
              "      <td>UC Berkeley</td>\n",
              "      <td>Physics</td>\n",
              "      <td>NaN</td>\n",
              "      <td>NaN</td>\n",
              "      <td>NaN</td>\n",
              "      <td>NaN</td>\n",
              "      <td>NaN</td>\n",
              "      <td>NaN</td>\n",
              "    </tr>\n",
              "  </tbody>\n",
              "</table>\n",
              "</div>"
            ],
            "text/plain": [
              "            Unnamed: 0                 Unnamed: 1  Unnamed: 2  \\\n",
              "0                  NaN                        NaN         NaN   \n",
              "1  Candidate ID Number             Position Title  Department   \n",
              "2              3668741  Associate Product Manager     Product   \n",
              "\n",
              "                          Unnamed: 3           Unnamed: 4          Unnamed: 5  \\\n",
              "0                                NaN                  NaN                 NaN   \n",
              "1  Furthest Recruiting Stage Reached  Date of Application  Application Source   \n",
              "2                    New Application  2016-11-17 00:00:00        Campus Event   \n",
              "\n",
              "            Unnamed: 6      Unnamed: 7   Unnamed: 8 Unnamed: 9  \\\n",
              "0                  NaN             NaN  Education 1        NaN   \n",
              "1  Years of Experience  Candidate Type       Degree     School   \n",
              "2                    0          Campus    Bachelors        NYU   \n",
              "\n",
              "        Unnamed: 10  Unnamed: 11  Unnamed: 12 Unnamed: 13  Unnamed: 14  \\\n",
              "0               NaN  Education 2          NaN         NaN  Education 3   \n",
              "1             Major       Degree       School       Major       Degree   \n",
              "2  Computer Science    Bachelors  UC Berkeley     Physics          NaN   \n",
              "\n",
              "  Unnamed: 15 Unnamed: 16  Unnamed: 17 Unnamed: 18 Unnamed: 19  \n",
              "0         NaN         NaN  Education 4         NaN         NaN  \n",
              "1      School       Major       Degree      School       Major  \n",
              "2         NaN         NaN          NaN         NaN         NaN  "
            ]
          },
          "metadata": {
            "tags": []
          },
          "execution_count": 3
        }
      ]
    },
    {
      "cell_type": "code",
      "metadata": {
        "colab": {
          "base_uri": "https://localhost:8080/",
          "height": 321
        },
        "id": "bJdVIND-4_v2",
        "outputId": "5ea8c94e-6f49-49f2-a7c6-a601dae5512e"
      },
      "source": [
        "dataset.columns=dataset.iloc[0].apply(lambda x: x+\" \" if(pd.notna(x)) else '')+dataset.iloc[1]\n",
        "dataset=dataset.drop(index=[0,1],axis=0).reset_index(drop=True)\n",
        "display(dataset.shape)\n",
        "dataset.head(3)\n",
        "\n"
      ],
      "execution_count": null,
      "outputs": [
        {
          "output_type": "display_data",
          "data": {
            "text/plain": [
              "(7408, 20)"
            ]
          },
          "metadata": {
            "tags": []
          }
        },
        {
          "output_type": "execute_result",
          "data": {
            "text/html": [
              "<div>\n",
              "<style scoped>\n",
              "    .dataframe tbody tr th:only-of-type {\n",
              "        vertical-align: middle;\n",
              "    }\n",
              "\n",
              "    .dataframe tbody tr th {\n",
              "        vertical-align: top;\n",
              "    }\n",
              "\n",
              "    .dataframe thead th {\n",
              "        text-align: right;\n",
              "    }\n",
              "</style>\n",
              "<table border=\"1\" class=\"dataframe\">\n",
              "  <thead>\n",
              "    <tr style=\"text-align: right;\">\n",
              "      <th></th>\n",
              "      <th>Candidate ID Number</th>\n",
              "      <th>Position Title</th>\n",
              "      <th>Department</th>\n",
              "      <th>Furthest Recruiting Stage Reached</th>\n",
              "      <th>Date of Application</th>\n",
              "      <th>Application Source</th>\n",
              "      <th>Years of Experience</th>\n",
              "      <th>Candidate Type</th>\n",
              "      <th>Education 1 Degree</th>\n",
              "      <th>School</th>\n",
              "      <th>Major</th>\n",
              "      <th>Education 2 Degree</th>\n",
              "      <th>School</th>\n",
              "      <th>Major</th>\n",
              "      <th>Education 3 Degree</th>\n",
              "      <th>School</th>\n",
              "      <th>Major</th>\n",
              "      <th>Education 4 Degree</th>\n",
              "      <th>School</th>\n",
              "      <th>Major</th>\n",
              "    </tr>\n",
              "  </thead>\n",
              "  <tbody>\n",
              "    <tr>\n",
              "      <th>0</th>\n",
              "      <td>3668741</td>\n",
              "      <td>Associate Product Manager</td>\n",
              "      <td>Product</td>\n",
              "      <td>New Application</td>\n",
              "      <td>2016-11-17 00:00:00</td>\n",
              "      <td>Campus Event</td>\n",
              "      <td>0</td>\n",
              "      <td>Campus</td>\n",
              "      <td>Bachelors</td>\n",
              "      <td>NYU</td>\n",
              "      <td>Computer Science</td>\n",
              "      <td>Bachelors</td>\n",
              "      <td>UC Berkeley</td>\n",
              "      <td>Physics</td>\n",
              "      <td>NaN</td>\n",
              "      <td>NaN</td>\n",
              "      <td>NaN</td>\n",
              "      <td>NaN</td>\n",
              "      <td>NaN</td>\n",
              "      <td>NaN</td>\n",
              "    </tr>\n",
              "    <tr>\n",
              "      <th>1</th>\n",
              "      <td>783317</td>\n",
              "      <td>Operations Coordinator</td>\n",
              "      <td>Operations</td>\n",
              "      <td>New Application</td>\n",
              "      <td>2017-12-22 00:00:00</td>\n",
              "      <td>Campus Job Board</td>\n",
              "      <td>0</td>\n",
              "      <td>Campus</td>\n",
              "      <td>Bachelors</td>\n",
              "      <td>Harvard</td>\n",
              "      <td>Political Science</td>\n",
              "      <td>NaN</td>\n",
              "      <td>NaN</td>\n",
              "      <td>NaN</td>\n",
              "      <td>NaN</td>\n",
              "      <td>NaN</td>\n",
              "      <td>NaN</td>\n",
              "      <td>NaN</td>\n",
              "      <td>NaN</td>\n",
              "      <td>NaN</td>\n",
              "    </tr>\n",
              "    <tr>\n",
              "      <th>2</th>\n",
              "      <td>2046362</td>\n",
              "      <td>Business Operations Manager</td>\n",
              "      <td>Operations</td>\n",
              "      <td>New Application</td>\n",
              "      <td>2018-06-20 00:00:00</td>\n",
              "      <td>Agency</td>\n",
              "      <td>6</td>\n",
              "      <td>Experienced</td>\n",
              "      <td>Bachelors</td>\n",
              "      <td>Columbia</td>\n",
              "      <td>Statistics</td>\n",
              "      <td>Masters</td>\n",
              "      <td>NYU</td>\n",
              "      <td>Computer Science</td>\n",
              "      <td>Masters</td>\n",
              "      <td>University of Washington</td>\n",
              "      <td>Mathematics</td>\n",
              "      <td>NaN</td>\n",
              "      <td>NaN</td>\n",
              "      <td>NaN</td>\n",
              "    </tr>\n",
              "  </tbody>\n",
              "</table>\n",
              "</div>"
            ],
            "text/plain": [
              "  Candidate ID Number               Position Title  Department  \\\n",
              "0             3668741    Associate Product Manager     Product   \n",
              "1              783317       Operations Coordinator  Operations   \n",
              "2             2046362  Business Operations Manager  Operations   \n",
              "\n",
              "  Furthest Recruiting Stage Reached  Date of Application Application Source  \\\n",
              "0                   New Application  2016-11-17 00:00:00       Campus Event   \n",
              "1                   New Application  2017-12-22 00:00:00   Campus Job Board   \n",
              "2                   New Application  2018-06-20 00:00:00             Agency   \n",
              "\n",
              "  Years of Experience Candidate Type Education 1 Degree    School  \\\n",
              "0                   0         Campus          Bachelors       NYU   \n",
              "1                   0         Campus          Bachelors   Harvard   \n",
              "2                   6    Experienced          Bachelors  Columbia   \n",
              "\n",
              "               Major Education 2 Degree       School             Major  \\\n",
              "0   Computer Science          Bachelors  UC Berkeley           Physics   \n",
              "1  Political Science                NaN          NaN               NaN   \n",
              "2         Statistics            Masters          NYU  Computer Science   \n",
              "\n",
              "  Education 3 Degree                    School        Major  \\\n",
              "0                NaN                       NaN          NaN   \n",
              "1                NaN                       NaN          NaN   \n",
              "2            Masters  University of Washington  Mathematics   \n",
              "\n",
              "  Education 4 Degree School Major  \n",
              "0                NaN    NaN   NaN  \n",
              "1                NaN    NaN   NaN  \n",
              "2                NaN    NaN   NaN  "
            ]
          },
          "metadata": {
            "tags": []
          },
          "execution_count": 4
        }
      ]
    },
    {
      "cell_type": "code",
      "metadata": {
        "colab": {
          "base_uri": "https://localhost:8080/"
        },
        "id": "Cp_F54CM6Ndc",
        "outputId": "8519db11-c16c-4161-ec46-7194dec3ad0e"
      },
      "source": [
        "dataset.columns"
      ],
      "execution_count": null,
      "outputs": [
        {
          "output_type": "execute_result",
          "data": {
            "text/plain": [
              "Index(['Candidate ID Number', 'Position Title', 'Department',\n",
              "       'Furthest Recruiting Stage Reached', 'Date of Application',\n",
              "       'Application Source', 'Years of Experience', 'Candidate Type',\n",
              "       'Education 1 Degree', 'School', 'Major', 'Education 2 Degree', 'School',\n",
              "       'Major', 'Education 3 Degree', 'School', 'Major', 'Education 4 Degree',\n",
              "       'School', 'Major'],\n",
              "      dtype='object')"
            ]
          },
          "metadata": {
            "tags": []
          },
          "execution_count": 5
        }
      ]
    },
    {
      "cell_type": "markdown",
      "metadata": {
        "id": "s5qvGLmBCRpr"
      },
      "source": [
        "### 1.) calculate the highest degree for each candidate using the education columns\n",
        "\n",
        "the order of degrees to consider from highest to lowest\n",
        "1. PhD = 1\n",
        "2. Masters (including JD)3 = 2\n",
        "3. Bachelors = 3\n",
        "\n",
        "The funnels should show the number of unique candidates who moved through each recruiting stage (including offer response). Count each candidate only once per Recruiting Funnel; if a candidate applied to multiple positions within a given department, count them once for the application that reached the furthest recruiting stage.\n",
        "\n"
      ]
    },
    {
      "cell_type": "code",
      "metadata": {
        "colab": {
          "base_uri": "https://localhost:8080/"
        },
        "id": "HUkaD9tn_Wb6",
        "outputId": "7778d9c7-672a-4d83-fa5d-d2958204ffba"
      },
      "source": [
        "dataset['Education 1 Degree'].value_counts()"
      ],
      "execution_count": null,
      "outputs": [
        {
          "output_type": "execute_result",
          "data": {
            "text/plain": [
              "Bachelors    5795\n",
              "Masters       932\n",
              "PhD           674\n",
              "JD              7\n",
              "Name: Education 1 Degree, dtype: int64"
            ]
          },
          "metadata": {
            "tags": []
          },
          "execution_count": 6
        }
      ]
    },
    {
      "cell_type": "code",
      "metadata": {
        "colab": {
          "base_uri": "https://localhost:8080/"
        },
        "id": "KMxahwHz_92Z",
        "outputId": "87d1b2b3-4608-416c-aace-f6aa07d4f16b"
      },
      "source": [
        "dataset['Education 2 Degree'].value_counts()"
      ],
      "execution_count": null,
      "outputs": [
        {
          "output_type": "execute_result",
          "data": {
            "text/plain": [
              "Bachelors    2143\n",
              "PhD           570\n",
              "Masters       445\n",
              "JD              3\n",
              "Name: Education 2 Degree, dtype: int64"
            ]
          },
          "metadata": {
            "tags": []
          },
          "execution_count": 7
        }
      ]
    },
    {
      "cell_type": "code",
      "metadata": {
        "colab": {
          "base_uri": "https://localhost:8080/"
        },
        "id": "8iHR_4I-ETDI",
        "outputId": "af764802-ed6c-4acf-e76c-9cd32880a922"
      },
      "source": [
        "dataset['Education 3 Degree'].value_counts()"
      ],
      "execution_count": null,
      "outputs": [
        {
          "output_type": "execute_result",
          "data": {
            "text/plain": [
              "Bachelors    600\n",
              "Masters      258\n",
              "PhD          124\n",
              "Name: Education 3 Degree, dtype: int64"
            ]
          },
          "metadata": {
            "tags": []
          },
          "execution_count": 8
        }
      ]
    },
    {
      "cell_type": "code",
      "metadata": {
        "id": "aC02LedsFEpl"
      },
      "source": [
        "# lets replace \n",
        "# PhD = 1\n",
        "# Masters (including JD)3 = 2\n",
        "# Bachelors = 3\n",
        "\n",
        "dataset.replace(to_replace=['PhD','Masters','JD','Bachelors'], value=[1,2,2,3],inplace = True)"
      ],
      "execution_count": null,
      "outputs": []
    },
    {
      "cell_type": "code",
      "metadata": {
        "colab": {
          "base_uri": "https://localhost:8080/"
        },
        "id": "8SkP5r_IFEk2",
        "outputId": "21bb2e27-985c-493e-9772-8cd0941df06e"
      },
      "source": [
        "dataset['Education 2 Degree'].value_counts()"
      ],
      "execution_count": null,
      "outputs": [
        {
          "output_type": "execute_result",
          "data": {
            "text/plain": [
              "3.0    2143\n",
              "1.0     570\n",
              "2.0     448\n",
              "Name: Education 2 Degree, dtype: int64"
            ]
          },
          "metadata": {
            "tags": []
          },
          "execution_count": 10
        }
      ]
    },
    {
      "cell_type": "code",
      "metadata": {
        "colab": {
          "base_uri": "https://localhost:8080/",
          "height": 303
        },
        "id": "oi3garFQ3G1h",
        "outputId": "61e5648a-42ae-47e3-d6ec-83f9039157a1"
      },
      "source": [
        "dataset['high_edu']=dataset[['Education 1 Degree','Education 2 Degree','Education 3 Degree']].min(axis=1)\n",
        "dataset.head(3)"
      ],
      "execution_count": null,
      "outputs": [
        {
          "output_type": "execute_result",
          "data": {
            "text/html": [
              "<div>\n",
              "<style scoped>\n",
              "    .dataframe tbody tr th:only-of-type {\n",
              "        vertical-align: middle;\n",
              "    }\n",
              "\n",
              "    .dataframe tbody tr th {\n",
              "        vertical-align: top;\n",
              "    }\n",
              "\n",
              "    .dataframe thead th {\n",
              "        text-align: right;\n",
              "    }\n",
              "</style>\n",
              "<table border=\"1\" class=\"dataframe\">\n",
              "  <thead>\n",
              "    <tr style=\"text-align: right;\">\n",
              "      <th></th>\n",
              "      <th>Candidate ID Number</th>\n",
              "      <th>Position Title</th>\n",
              "      <th>Department</th>\n",
              "      <th>Furthest Recruiting Stage Reached</th>\n",
              "      <th>Date of Application</th>\n",
              "      <th>Application Source</th>\n",
              "      <th>Years of Experience</th>\n",
              "      <th>Candidate Type</th>\n",
              "      <th>Education 1 Degree</th>\n",
              "      <th>School</th>\n",
              "      <th>Major</th>\n",
              "      <th>Education 2 Degree</th>\n",
              "      <th>School</th>\n",
              "      <th>Major</th>\n",
              "      <th>Education 3 Degree</th>\n",
              "      <th>School</th>\n",
              "      <th>Major</th>\n",
              "      <th>Education 4 Degree</th>\n",
              "      <th>School</th>\n",
              "      <th>Major</th>\n",
              "      <th>high_edu</th>\n",
              "    </tr>\n",
              "  </thead>\n",
              "  <tbody>\n",
              "    <tr>\n",
              "      <th>0</th>\n",
              "      <td>3668741</td>\n",
              "      <td>Associate Product Manager</td>\n",
              "      <td>Product</td>\n",
              "      <td>New Application</td>\n",
              "      <td>2016-11-17</td>\n",
              "      <td>Campus Event</td>\n",
              "      <td>0</td>\n",
              "      <td>Campus</td>\n",
              "      <td>3</td>\n",
              "      <td>NYU</td>\n",
              "      <td>Computer Science</td>\n",
              "      <td>3.0</td>\n",
              "      <td>UC Berkeley</td>\n",
              "      <td>Physics</td>\n",
              "      <td>NaN</td>\n",
              "      <td>NaN</td>\n",
              "      <td>NaN</td>\n",
              "      <td>NaN</td>\n",
              "      <td>NaN</td>\n",
              "      <td>NaN</td>\n",
              "      <td>3.0</td>\n",
              "    </tr>\n",
              "    <tr>\n",
              "      <th>1</th>\n",
              "      <td>783317</td>\n",
              "      <td>Operations Coordinator</td>\n",
              "      <td>Operations</td>\n",
              "      <td>New Application</td>\n",
              "      <td>2017-12-22</td>\n",
              "      <td>Campus Job Board</td>\n",
              "      <td>0</td>\n",
              "      <td>Campus</td>\n",
              "      <td>3</td>\n",
              "      <td>Harvard</td>\n",
              "      <td>Political Science</td>\n",
              "      <td>NaN</td>\n",
              "      <td>NaN</td>\n",
              "      <td>NaN</td>\n",
              "      <td>NaN</td>\n",
              "      <td>NaN</td>\n",
              "      <td>NaN</td>\n",
              "      <td>NaN</td>\n",
              "      <td>NaN</td>\n",
              "      <td>NaN</td>\n",
              "      <td>3.0</td>\n",
              "    </tr>\n",
              "    <tr>\n",
              "      <th>2</th>\n",
              "      <td>2046362</td>\n",
              "      <td>Business Operations Manager</td>\n",
              "      <td>Operations</td>\n",
              "      <td>New Application</td>\n",
              "      <td>2018-06-20</td>\n",
              "      <td>Agency</td>\n",
              "      <td>6</td>\n",
              "      <td>Experienced</td>\n",
              "      <td>3</td>\n",
              "      <td>Columbia</td>\n",
              "      <td>Statistics</td>\n",
              "      <td>2.0</td>\n",
              "      <td>NYU</td>\n",
              "      <td>Computer Science</td>\n",
              "      <td>2.0</td>\n",
              "      <td>University of Washington</td>\n",
              "      <td>Mathematics</td>\n",
              "      <td>NaN</td>\n",
              "      <td>NaN</td>\n",
              "      <td>NaN</td>\n",
              "      <td>2.0</td>\n",
              "    </tr>\n",
              "  </tbody>\n",
              "</table>\n",
              "</div>"
            ],
            "text/plain": [
              "   Candidate ID Number               Position Title  Department  \\\n",
              "0              3668741    Associate Product Manager     Product   \n",
              "1               783317       Operations Coordinator  Operations   \n",
              "2              2046362  Business Operations Manager  Operations   \n",
              "\n",
              "  Furthest Recruiting Stage Reached Date of Application Application Source  \\\n",
              "0                   New Application          2016-11-17       Campus Event   \n",
              "1                   New Application          2017-12-22   Campus Job Board   \n",
              "2                   New Application          2018-06-20             Agency   \n",
              "\n",
              "   Years of Experience Candidate Type  Education 1 Degree    School  \\\n",
              "0                    0         Campus                   3       NYU   \n",
              "1                    0         Campus                   3   Harvard   \n",
              "2                    6    Experienced                   3  Columbia   \n",
              "\n",
              "               Major  Education 2 Degree       School             Major  \\\n",
              "0   Computer Science                 3.0  UC Berkeley           Physics   \n",
              "1  Political Science                 NaN          NaN               NaN   \n",
              "2         Statistics                 2.0          NYU  Computer Science   \n",
              "\n",
              "   Education 3 Degree                    School        Major  \\\n",
              "0                 NaN                       NaN          NaN   \n",
              "1                 NaN                       NaN          NaN   \n",
              "2                 2.0  University of Washington  Mathematics   \n",
              "\n",
              "   Education 4 Degree School Major  high_edu  \n",
              "0                 NaN    NaN   NaN       3.0  \n",
              "1                 NaN    NaN   NaN       3.0  \n",
              "2                 NaN    NaN   NaN       2.0  "
            ]
          },
          "metadata": {
            "tags": []
          },
          "execution_count": 11
        }
      ]
    },
    {
      "cell_type": "code",
      "metadata": {
        "colab": {
          "base_uri": "https://localhost:8080/",
          "height": 424
        },
        "id": "gB1UAVjwKPHC",
        "outputId": "ae1939c8-e363-45f2-c4ce-537a57d306f1"
      },
      "source": [
        "# calculate the highest degree for each candidate using the education columns\n",
        "# PhD = 1\n",
        "# Masters (including JD)3 = 2\n",
        "# Bachelors = 3\n",
        "candidate_high_edu=dataset[['Candidate ID Number','high_edu']]\n",
        "candidate_high_edu"
      ],
      "execution_count": null,
      "outputs": [
        {
          "output_type": "execute_result",
          "data": {
            "text/html": [
              "<div>\n",
              "<style scoped>\n",
              "    .dataframe tbody tr th:only-of-type {\n",
              "        vertical-align: middle;\n",
              "    }\n",
              "\n",
              "    .dataframe tbody tr th {\n",
              "        vertical-align: top;\n",
              "    }\n",
              "\n",
              "    .dataframe thead th {\n",
              "        text-align: right;\n",
              "    }\n",
              "</style>\n",
              "<table border=\"1\" class=\"dataframe\">\n",
              "  <thead>\n",
              "    <tr style=\"text-align: right;\">\n",
              "      <th></th>\n",
              "      <th>Candidate ID Number</th>\n",
              "      <th>high_edu</th>\n",
              "    </tr>\n",
              "  </thead>\n",
              "  <tbody>\n",
              "    <tr>\n",
              "      <th>0</th>\n",
              "      <td>3668741</td>\n",
              "      <td>3.0</td>\n",
              "    </tr>\n",
              "    <tr>\n",
              "      <th>1</th>\n",
              "      <td>783317</td>\n",
              "      <td>3.0</td>\n",
              "    </tr>\n",
              "    <tr>\n",
              "      <th>2</th>\n",
              "      <td>2046362</td>\n",
              "      <td>2.0</td>\n",
              "    </tr>\n",
              "    <tr>\n",
              "      <th>3</th>\n",
              "      <td>39321</td>\n",
              "      <td>3.0</td>\n",
              "    </tr>\n",
              "    <tr>\n",
              "      <th>4</th>\n",
              "      <td>222272</td>\n",
              "      <td>1.0</td>\n",
              "    </tr>\n",
              "    <tr>\n",
              "      <th>...</th>\n",
              "      <td>...</td>\n",
              "      <td>...</td>\n",
              "    </tr>\n",
              "    <tr>\n",
              "      <th>7403</th>\n",
              "      <td>6166724</td>\n",
              "      <td>1.0</td>\n",
              "    </tr>\n",
              "    <tr>\n",
              "      <th>7404</th>\n",
              "      <td>1718459</td>\n",
              "      <td>3.0</td>\n",
              "    </tr>\n",
              "    <tr>\n",
              "      <th>7405</th>\n",
              "      <td>10008</td>\n",
              "      <td>3.0</td>\n",
              "    </tr>\n",
              "    <tr>\n",
              "      <th>7406</th>\n",
              "      <td>4432109</td>\n",
              "      <td>1.0</td>\n",
              "    </tr>\n",
              "    <tr>\n",
              "      <th>7407</th>\n",
              "      <td>2332172</td>\n",
              "      <td>3.0</td>\n",
              "    </tr>\n",
              "  </tbody>\n",
              "</table>\n",
              "<p>7408 rows × 2 columns</p>\n",
              "</div>"
            ],
            "text/plain": [
              "      Candidate ID Number  high_edu\n",
              "0                 3668741       3.0\n",
              "1                  783317       3.0\n",
              "2                 2046362       2.0\n",
              "3                   39321       3.0\n",
              "4                  222272       1.0\n",
              "...                   ...       ...\n",
              "7403              6166724       1.0\n",
              "7404              1718459       3.0\n",
              "7405                10008       3.0\n",
              "7406              4432109       1.0\n",
              "7407              2332172       3.0\n",
              "\n",
              "[7408 rows x 2 columns]"
            ]
          },
          "metadata": {
            "tags": []
          },
          "execution_count": 12
        }
      ]
    },
    {
      "cell_type": "code",
      "metadata": {
        "colab": {
          "base_uri": "https://localhost:8080/"
        },
        "id": "8clM0oqHyxw-",
        "outputId": "ed813e58-79a6-41bc-a4bd-c364a9e1dd2c"
      },
      "source": [
        "dataset['Furthest Recruiting Stage Reached'].value_counts()"
      ],
      "execution_count": null,
      "outputs": [
        {
          "output_type": "execute_result",
          "data": {
            "text/plain": [
              "New Application       5639\n",
              "Phone Screen           886\n",
              "In-House Interview     719\n",
              "Offer Sent             134\n",
              "In-house Interview      30\n",
              "Name: Furthest Recruiting Stage Reached, dtype: int64"
            ]
          },
          "metadata": {
            "tags": []
          },
          "execution_count": 13
        }
      ]
    },
    {
      "cell_type": "code",
      "metadata": {
        "id": "3U373TTq713D"
      },
      "source": [
        "# lets combine In-House Interview and  In-house Interview\n",
        "dataset['Furthest Recruiting Stage Reached']=dataset['Furthest Recruiting Stage Reached'].replace({'In-house Interview':'In-House Interview'})"
      ],
      "execution_count": null,
      "outputs": []
    },
    {
      "cell_type": "code",
      "metadata": {
        "colab": {
          "base_uri": "https://localhost:8080/",
          "height": 175
        },
        "id": "QjXUWn_q75_q",
        "outputId": "e176d37f-fba0-4df4-b5bf-f3383f0cfd0f"
      },
      "source": [
        "Recruiting_Funnel=dataset['Furthest Recruiting Stage Reached'].value_counts().reset_index()\n",
        "Recruiting_Funnel.columns=['stage','Applicants']\n",
        "Recruiting_Funnel"
      ],
      "execution_count": null,
      "outputs": [
        {
          "output_type": "execute_result",
          "data": {
            "text/html": [
              "<div>\n",
              "<style scoped>\n",
              "    .dataframe tbody tr th:only-of-type {\n",
              "        vertical-align: middle;\n",
              "    }\n",
              "\n",
              "    .dataframe tbody tr th {\n",
              "        vertical-align: top;\n",
              "    }\n",
              "\n",
              "    .dataframe thead th {\n",
              "        text-align: right;\n",
              "    }\n",
              "</style>\n",
              "<table border=\"1\" class=\"dataframe\">\n",
              "  <thead>\n",
              "    <tr style=\"text-align: right;\">\n",
              "      <th></th>\n",
              "      <th>stage</th>\n",
              "      <th>Applicants</th>\n",
              "    </tr>\n",
              "  </thead>\n",
              "  <tbody>\n",
              "    <tr>\n",
              "      <th>0</th>\n",
              "      <td>New Application</td>\n",
              "      <td>5639</td>\n",
              "    </tr>\n",
              "    <tr>\n",
              "      <th>1</th>\n",
              "      <td>Phone Screen</td>\n",
              "      <td>886</td>\n",
              "    </tr>\n",
              "    <tr>\n",
              "      <th>2</th>\n",
              "      <td>In-House Interview</td>\n",
              "      <td>749</td>\n",
              "    </tr>\n",
              "    <tr>\n",
              "      <th>3</th>\n",
              "      <td>Offer Sent</td>\n",
              "      <td>134</td>\n",
              "    </tr>\n",
              "  </tbody>\n",
              "</table>\n",
              "</div>"
            ],
            "text/plain": [
              "                stage  Applicants\n",
              "0     New Application        5639\n",
              "1        Phone Screen         886\n",
              "2  In-House Interview         749\n",
              "3          Offer Sent         134"
            ]
          },
          "metadata": {
            "tags": []
          },
          "execution_count": 15
        }
      ]
    },
    {
      "cell_type": "markdown",
      "metadata": {
        "id": "aMPsFE0GNjpy"
      },
      "source": [
        "##### lets read accepted dataset"
      ]
    },
    {
      "cell_type": "code",
      "metadata": {
        "colab": {
          "base_uri": "https://localhost:8080/",
          "height": 299
        },
        "id": "7eO1Id_YKbLP",
        "outputId": "38ac48ad-68ed-43f8-cb6f-26b483818675"
      },
      "source": [
        "offer_accepted=pd.read_excel(\"/content/drive/My Drive/Colab_NB_Datasets/Case Study - Data Engineering Visualization Analyst.xlsx\",\"Offer Response Data\")\n",
        "display(offer_accepted.shape)\n",
        "display(offer_accepted.head())\n",
        "offer_accepted['Offer Decision'].value_counts()"
      ],
      "execution_count": null,
      "outputs": [
        {
          "output_type": "display_data",
          "data": {
            "text/plain": [
              "(134, 2)"
            ]
          },
          "metadata": {
            "tags": []
          }
        },
        {
          "output_type": "display_data",
          "data": {
            "text/html": [
              "<div>\n",
              "<style scoped>\n",
              "    .dataframe tbody tr th:only-of-type {\n",
              "        vertical-align: middle;\n",
              "    }\n",
              "\n",
              "    .dataframe tbody tr th {\n",
              "        vertical-align: top;\n",
              "    }\n",
              "\n",
              "    .dataframe thead th {\n",
              "        text-align: right;\n",
              "    }\n",
              "</style>\n",
              "<table border=\"1\" class=\"dataframe\">\n",
              "  <thead>\n",
              "    <tr style=\"text-align: right;\">\n",
              "      <th></th>\n",
              "      <th>Candidate ID Number</th>\n",
              "      <th>Offer Decision</th>\n",
              "    </tr>\n",
              "  </thead>\n",
              "  <tbody>\n",
              "    <tr>\n",
              "      <th>0</th>\n",
              "      <td>3368</td>\n",
              "      <td>Offer Accepted</td>\n",
              "    </tr>\n",
              "    <tr>\n",
              "      <th>1</th>\n",
              "      <td>10008</td>\n",
              "      <td>Offer Accepted</td>\n",
              "    </tr>\n",
              "    <tr>\n",
              "      <th>2</th>\n",
              "      <td>2790</td>\n",
              "      <td>Offer Accepted</td>\n",
              "    </tr>\n",
              "    <tr>\n",
              "      <th>3</th>\n",
              "      <td>3500</td>\n",
              "      <td>Offer Accepted</td>\n",
              "    </tr>\n",
              "    <tr>\n",
              "      <th>4</th>\n",
              "      <td>2675</td>\n",
              "      <td>Offer Accepted</td>\n",
              "    </tr>\n",
              "  </tbody>\n",
              "</table>\n",
              "</div>"
            ],
            "text/plain": [
              "   Candidate ID Number  Offer Decision\n",
              "0                 3368  Offer Accepted\n",
              "1                10008  Offer Accepted\n",
              "2                 2790  Offer Accepted\n",
              "3                 3500  Offer Accepted\n",
              "4                 2675  Offer Accepted"
            ]
          },
          "metadata": {
            "tags": []
          }
        },
        {
          "output_type": "execute_result",
          "data": {
            "text/plain": [
              "Offer Accepted            74\n",
              "Offer Declined            48\n",
              "Offer Response Pending    12\n",
              "Name: Offer Decision, dtype: int64"
            ]
          },
          "metadata": {
            "tags": []
          },
          "execution_count": 16
        }
      ]
    },
    {
      "cell_type": "code",
      "metadata": {
        "colab": {
          "base_uri": "https://localhost:8080/",
          "height": 35
        },
        "id": "9mH6uoDKNxCE",
        "outputId": "92585d76-f26a-498d-bf9e-c506af1dd3a3"
      },
      "source": [
        "# lets make list of candidate send offer from initial dataset\n",
        "Offer_Sent_candidate=dataset['Candidate ID Number'][dataset['Furthest Recruiting Stage Reached']=='Offer Sent']\n",
        "display(Offer_Sent_candidate.shape)\n",
        "Offer_Sent_candidate=Offer_Sent_candidate.to_list()"
      ],
      "execution_count": null,
      "outputs": [
        {
          "output_type": "display_data",
          "data": {
            "text/plain": [
              "(134,)"
            ]
          },
          "metadata": {
            "tags": []
          }
        }
      ]
    },
    {
      "cell_type": "code",
      "metadata": {
        "colab": {
          "base_uri": "https://localhost:8080/"
        },
        "id": "Xg2fIFvsLOig",
        "outputId": "3375674d-4f81-4ac4-f47a-f35b6a6fef58"
      },
      "source": [
        "# lets compare Offer_Sent_candidate and offer_accepted andidate list data\n",
        "invalid_candidate_offer=[]\n",
        "for i in np.arange(offer_accepted.shape[0]):  \n",
        "  offer_acc=offer_accepted['Candidate ID Number'][i] \n",
        "  if ((offer_acc in Offer_Sent_candidate)==False):\n",
        "    invalid_candidate_offer.append(offer_acc)\n",
        "invalid_candidate_offer"
      ],
      "execution_count": null,
      "outputs": [
        {
          "output_type": "execute_result",
          "data": {
            "text/plain": [
              "[]"
            ]
          },
          "metadata": {
            "tags": []
          },
          "execution_count": 18
        }
      ]
    },
    {
      "cell_type": "markdown",
      "metadata": {
        "id": "c-Woaq9kcnek"
      },
      "source": [
        "This means all the candidate in offer_accepted dataset are valid . sinice they are the exact same candidate which are in offer_sent"
      ]
    },
    {
      "cell_type": "code",
      "metadata": {
        "colab": {
          "base_uri": "https://localhost:8080/",
          "height": 144
        },
        "id": "po9RNWDpcL4R",
        "outputId": "917146db-e665-4348-981e-c3dfa31a8d2d"
      },
      "source": [
        "offer_accepted=offer_accepted['Offer Decision'].value_counts().reset_index()\n",
        "offer_accepted"
      ],
      "execution_count": null,
      "outputs": [
        {
          "output_type": "execute_result",
          "data": {
            "text/html": [
              "<div>\n",
              "<style scoped>\n",
              "    .dataframe tbody tr th:only-of-type {\n",
              "        vertical-align: middle;\n",
              "    }\n",
              "\n",
              "    .dataframe tbody tr th {\n",
              "        vertical-align: top;\n",
              "    }\n",
              "\n",
              "    .dataframe thead th {\n",
              "        text-align: right;\n",
              "    }\n",
              "</style>\n",
              "<table border=\"1\" class=\"dataframe\">\n",
              "  <thead>\n",
              "    <tr style=\"text-align: right;\">\n",
              "      <th></th>\n",
              "      <th>index</th>\n",
              "      <th>Offer Decision</th>\n",
              "    </tr>\n",
              "  </thead>\n",
              "  <tbody>\n",
              "    <tr>\n",
              "      <th>0</th>\n",
              "      <td>Offer Accepted</td>\n",
              "      <td>74</td>\n",
              "    </tr>\n",
              "    <tr>\n",
              "      <th>1</th>\n",
              "      <td>Offer Declined</td>\n",
              "      <td>48</td>\n",
              "    </tr>\n",
              "    <tr>\n",
              "      <th>2</th>\n",
              "      <td>Offer Response Pending</td>\n",
              "      <td>12</td>\n",
              "    </tr>\n",
              "  </tbody>\n",
              "</table>\n",
              "</div>"
            ],
            "text/plain": [
              "                    index  Offer Decision\n",
              "0          Offer Accepted              74\n",
              "1          Offer Declined              48\n",
              "2  Offer Response Pending              12"
            ]
          },
          "metadata": {
            "tags": []
          },
          "execution_count": 19
        }
      ]
    },
    {
      "cell_type": "code",
      "metadata": {
        "colab": {
          "base_uri": "https://localhost:8080/",
          "height": 144
        },
        "id": "MsEqEDkedMGr",
        "outputId": "cad6d21e-01dd-4d30-e6ab-90430bf466d5"
      },
      "source": [
        "# lets make same column name as of  Recruiting_Funnel\n",
        "offer_accepted.columns=['stage','Applicants']\n",
        "offer_accepted\n"
      ],
      "execution_count": null,
      "outputs": [
        {
          "output_type": "execute_result",
          "data": {
            "text/html": [
              "<div>\n",
              "<style scoped>\n",
              "    .dataframe tbody tr th:only-of-type {\n",
              "        vertical-align: middle;\n",
              "    }\n",
              "\n",
              "    .dataframe tbody tr th {\n",
              "        vertical-align: top;\n",
              "    }\n",
              "\n",
              "    .dataframe thead th {\n",
              "        text-align: right;\n",
              "    }\n",
              "</style>\n",
              "<table border=\"1\" class=\"dataframe\">\n",
              "  <thead>\n",
              "    <tr style=\"text-align: right;\">\n",
              "      <th></th>\n",
              "      <th>stage</th>\n",
              "      <th>Applicants</th>\n",
              "    </tr>\n",
              "  </thead>\n",
              "  <tbody>\n",
              "    <tr>\n",
              "      <th>0</th>\n",
              "      <td>Offer Accepted</td>\n",
              "      <td>74</td>\n",
              "    </tr>\n",
              "    <tr>\n",
              "      <th>1</th>\n",
              "      <td>Offer Declined</td>\n",
              "      <td>48</td>\n",
              "    </tr>\n",
              "    <tr>\n",
              "      <th>2</th>\n",
              "      <td>Offer Response Pending</td>\n",
              "      <td>12</td>\n",
              "    </tr>\n",
              "  </tbody>\n",
              "</table>\n",
              "</div>"
            ],
            "text/plain": [
              "                    stage  Applicants\n",
              "0          Offer Accepted          74\n",
              "1          Offer Declined          48\n",
              "2  Offer Response Pending          12"
            ]
          },
          "metadata": {
            "tags": []
          },
          "execution_count": 20
        }
      ]
    },
    {
      "cell_type": "code",
      "metadata": {
        "colab": {
          "base_uri": "https://localhost:8080/",
          "height": 269
        },
        "id": "-TZQ4DIrds-Y",
        "outputId": "522f8c45-7625-4396-fe3a-f9281353cda6"
      },
      "source": [
        "# lets concate the offer_accepted and Recruiting_Funnel and make Recruiting_Funnel\n",
        "Recruiting_Funnel=pd.concat([Recruiting_Funnel,offer_accepted]).reset_index(drop=True)\n",
        "Recruiting_Funnel"
      ],
      "execution_count": null,
      "outputs": [
        {
          "output_type": "execute_result",
          "data": {
            "text/html": [
              "<div>\n",
              "<style scoped>\n",
              "    .dataframe tbody tr th:only-of-type {\n",
              "        vertical-align: middle;\n",
              "    }\n",
              "\n",
              "    .dataframe tbody tr th {\n",
              "        vertical-align: top;\n",
              "    }\n",
              "\n",
              "    .dataframe thead th {\n",
              "        text-align: right;\n",
              "    }\n",
              "</style>\n",
              "<table border=\"1\" class=\"dataframe\">\n",
              "  <thead>\n",
              "    <tr style=\"text-align: right;\">\n",
              "      <th></th>\n",
              "      <th>stage</th>\n",
              "      <th>Applicants</th>\n",
              "    </tr>\n",
              "  </thead>\n",
              "  <tbody>\n",
              "    <tr>\n",
              "      <th>0</th>\n",
              "      <td>New Application</td>\n",
              "      <td>5639</td>\n",
              "    </tr>\n",
              "    <tr>\n",
              "      <th>1</th>\n",
              "      <td>Phone Screen</td>\n",
              "      <td>886</td>\n",
              "    </tr>\n",
              "    <tr>\n",
              "      <th>2</th>\n",
              "      <td>In-House Interview</td>\n",
              "      <td>749</td>\n",
              "    </tr>\n",
              "    <tr>\n",
              "      <th>3</th>\n",
              "      <td>Offer Sent</td>\n",
              "      <td>134</td>\n",
              "    </tr>\n",
              "    <tr>\n",
              "      <th>4</th>\n",
              "      <td>Offer Accepted</td>\n",
              "      <td>74</td>\n",
              "    </tr>\n",
              "    <tr>\n",
              "      <th>5</th>\n",
              "      <td>Offer Declined</td>\n",
              "      <td>48</td>\n",
              "    </tr>\n",
              "    <tr>\n",
              "      <th>6</th>\n",
              "      <td>Offer Response Pending</td>\n",
              "      <td>12</td>\n",
              "    </tr>\n",
              "  </tbody>\n",
              "</table>\n",
              "</div>"
            ],
            "text/plain": [
              "                    stage  Applicants\n",
              "0         New Application        5639\n",
              "1            Phone Screen         886\n",
              "2      In-House Interview         749\n",
              "3              Offer Sent         134\n",
              "4          Offer Accepted          74\n",
              "5          Offer Declined          48\n",
              "6  Offer Response Pending          12"
            ]
          },
          "metadata": {
            "tags": []
          },
          "execution_count": 21
        }
      ]
    },
    {
      "cell_type": "code",
      "metadata": {
        "id": "tt9ylDKMe9by"
      },
      "source": [
        "# lets consider 'Offer Response Pending' as also 'Offer Declined', \n",
        "# then\n",
        "# lets drop 'Offer Declined' and 'Offer Response Pending'\n",
        "# \n",
        "Recruiting_Funnel.drop(Recruiting_Funnel.loc[Recruiting_Funnel['stage']=='Offer Declined'].index, inplace=True)\n",
        "Recruiting_Funnel.drop(Recruiting_Funnel.loc[Recruiting_Funnel['stage']=='Offer Response Pending'].index, inplace=True)"
      ],
      "execution_count": null,
      "outputs": []
    },
    {
      "cell_type": "code",
      "metadata": {
        "colab": {
          "base_uri": "https://localhost:8080/",
          "height": 206
        },
        "id": "C3T8B_PIgDuX",
        "outputId": "a6af28ac-3a29-4442-9eb3-b39109740627"
      },
      "source": [
        "Recruiting_Funnel"
      ],
      "execution_count": null,
      "outputs": [
        {
          "output_type": "execute_result",
          "data": {
            "text/html": [
              "<div>\n",
              "<style scoped>\n",
              "    .dataframe tbody tr th:only-of-type {\n",
              "        vertical-align: middle;\n",
              "    }\n",
              "\n",
              "    .dataframe tbody tr th {\n",
              "        vertical-align: top;\n",
              "    }\n",
              "\n",
              "    .dataframe thead th {\n",
              "        text-align: right;\n",
              "    }\n",
              "</style>\n",
              "<table border=\"1\" class=\"dataframe\">\n",
              "  <thead>\n",
              "    <tr style=\"text-align: right;\">\n",
              "      <th></th>\n",
              "      <th>stage</th>\n",
              "      <th>Applicants</th>\n",
              "    </tr>\n",
              "  </thead>\n",
              "  <tbody>\n",
              "    <tr>\n",
              "      <th>0</th>\n",
              "      <td>New Application</td>\n",
              "      <td>5639</td>\n",
              "    </tr>\n",
              "    <tr>\n",
              "      <th>1</th>\n",
              "      <td>Phone Screen</td>\n",
              "      <td>886</td>\n",
              "    </tr>\n",
              "    <tr>\n",
              "      <th>2</th>\n",
              "      <td>In-House Interview</td>\n",
              "      <td>749</td>\n",
              "    </tr>\n",
              "    <tr>\n",
              "      <th>3</th>\n",
              "      <td>Offer Sent</td>\n",
              "      <td>134</td>\n",
              "    </tr>\n",
              "    <tr>\n",
              "      <th>4</th>\n",
              "      <td>Offer Accepted</td>\n",
              "      <td>74</td>\n",
              "    </tr>\n",
              "  </tbody>\n",
              "</table>\n",
              "</div>"
            ],
            "text/plain": [
              "                stage  Applicants\n",
              "0     New Application        5639\n",
              "1        Phone Screen         886\n",
              "2  In-House Interview         749\n",
              "3          Offer Sent         134\n",
              "4      Offer Accepted          74"
            ]
          },
          "metadata": {
            "tags": []
          },
          "execution_count": 23
        }
      ]
    },
    {
      "cell_type": "code",
      "metadata": {
        "colab": {
          "base_uri": "https://localhost:8080/"
        },
        "id": "8QpqkE6LhAxr",
        "outputId": "55866e5a-c8f4-4b01-808e-72911d4539bd"
      },
      "source": [
        "conversion_rate=['-']\n",
        "k=0\n",
        "for i in np.arange(Recruiting_Funnel.shape[0]-1):\n",
        "  j=k+1\n",
        "  rate=np.round(Recruiting_Funnel['Applicants'][j]/Recruiting_Funnel['Applicants'][k]*100,2)\n",
        "  rate=str(rate)+'%'\n",
        "  conversion_rate.append(rate)\n",
        "  k=j\n",
        "conversion_rate"
      ],
      "execution_count": null,
      "outputs": [
        {
          "output_type": "execute_result",
          "data": {
            "text/plain": [
              "['-', '15.71%', '84.54%', '17.89%', '55.22%']"
            ]
          },
          "metadata": {
            "tags": []
          },
          "execution_count": 24
        }
      ]
    },
    {
      "cell_type": "code",
      "metadata": {
        "colab": {
          "base_uri": "https://localhost:8080/",
          "height": 206
        },
        "id": "r6Fvyw_1hCD_",
        "outputId": "2c74b806-8923-4776-fb42-0f75770a01a8"
      },
      "source": [
        "Recruiting_Funnel['conversion_rate']=conversion_rate\n",
        "Recruiting_Funnel\n"
      ],
      "execution_count": null,
      "outputs": [
        {
          "output_type": "execute_result",
          "data": {
            "text/html": [
              "<div>\n",
              "<style scoped>\n",
              "    .dataframe tbody tr th:only-of-type {\n",
              "        vertical-align: middle;\n",
              "    }\n",
              "\n",
              "    .dataframe tbody tr th {\n",
              "        vertical-align: top;\n",
              "    }\n",
              "\n",
              "    .dataframe thead th {\n",
              "        text-align: right;\n",
              "    }\n",
              "</style>\n",
              "<table border=\"1\" class=\"dataframe\">\n",
              "  <thead>\n",
              "    <tr style=\"text-align: right;\">\n",
              "      <th></th>\n",
              "      <th>stage</th>\n",
              "      <th>Applicants</th>\n",
              "      <th>conversion_rate</th>\n",
              "    </tr>\n",
              "  </thead>\n",
              "  <tbody>\n",
              "    <tr>\n",
              "      <th>0</th>\n",
              "      <td>New Application</td>\n",
              "      <td>5639</td>\n",
              "      <td>-</td>\n",
              "    </tr>\n",
              "    <tr>\n",
              "      <th>1</th>\n",
              "      <td>Phone Screen</td>\n",
              "      <td>886</td>\n",
              "      <td>15.71%</td>\n",
              "    </tr>\n",
              "    <tr>\n",
              "      <th>2</th>\n",
              "      <td>In-House Interview</td>\n",
              "      <td>749</td>\n",
              "      <td>84.54%</td>\n",
              "    </tr>\n",
              "    <tr>\n",
              "      <th>3</th>\n",
              "      <td>Offer Sent</td>\n",
              "      <td>134</td>\n",
              "      <td>17.89%</td>\n",
              "    </tr>\n",
              "    <tr>\n",
              "      <th>4</th>\n",
              "      <td>Offer Accepted</td>\n",
              "      <td>74</td>\n",
              "      <td>55.22%</td>\n",
              "    </tr>\n",
              "  </tbody>\n",
              "</table>\n",
              "</div>"
            ],
            "text/plain": [
              "                stage  Applicants conversion_rate\n",
              "0     New Application        5639               -\n",
              "1        Phone Screen         886          15.71%\n",
              "2  In-House Interview         749          84.54%\n",
              "3          Offer Sent         134          17.89%\n",
              "4      Offer Accepted          74          55.22%"
            ]
          },
          "metadata": {
            "tags": []
          },
          "execution_count": 25
        }
      ]
    },
    {
      "cell_type": "code",
      "metadata": {
        "colab": {
          "base_uri": "https://localhost:8080/",
          "height": 350
        },
        "id": "lrN7nIZ1mgcL",
        "outputId": "f30c6641-9e06-4dd5-d515-9c878bd1325b"
      },
      "source": [
        " plt.figure(figsize=(15,5))\n",
        " sns.barplot(x=\"stage\", y=\"Applicants\", data=Recruiting_Funnel)\n",
        " plt.title(\"stage vs Applicants\")\n",
        " plt.show()"
      ],
      "execution_count": null,
      "outputs": [
        {
          "output_type": "display_data",
          "data": {
            "image/png": "[encoded data removed]",
            "text/plain": [
              "<Figure size 1080x360 with 1 Axes>"
            ]
          },
          "metadata": {
            "tags": [],
            "needs_background": "light"
          }
        }
      ]
    },
    {
      "cell_type": "markdown",
      "metadata": {
        "id": "VDLbcFLVmkti"
      },
      "source": [
        "#### Hence, \n",
        "1. To calculate the highest degree for each candidate using the education columns is \"candidate_high_edu\" \n",
        "2. The number of unique candidates who moved through each recruiting stage is \"Recruiting_Funnel\""
      ]
    },
    {
      "cell_type": "code",
      "metadata": {
        "colab": {
          "base_uri": "https://localhost:8080/",
          "height": 303
        },
        "id": "3FvCQ5S8IkAo",
        "outputId": "ddb4e906-c000-4a6c-b443-3ae6aa4219d5"
      },
      "source": [
        "# lets take only year from 'Date of Application'\n",
        "dataset['Date of Application']=dataset['Date of Application'].apply(pd.to_datetime)\n",
        "dataset['Date of Application']=pd.DatetimeIndex(dataset['Date of Application']).year\n",
        "dataset.head(3)"
      ],
      "execution_count": null,
      "outputs": [
        {
          "output_type": "execute_result",
          "data": {
            "text/html": [
              "<div>\n",
              "<style scoped>\n",
              "    .dataframe tbody tr th:only-of-type {\n",
              "        vertical-align: middle;\n",
              "    }\n",
              "\n",
              "    .dataframe tbody tr th {\n",
              "        vertical-align: top;\n",
              "    }\n",
              "\n",
              "    .dataframe thead th {\n",
              "        text-align: right;\n",
              "    }\n",
              "</style>\n",
              "<table border=\"1\" class=\"dataframe\">\n",
              "  <thead>\n",
              "    <tr style=\"text-align: right;\">\n",
              "      <th></th>\n",
              "      <th>Candidate ID Number</th>\n",
              "      <th>Position Title</th>\n",
              "      <th>Department</th>\n",
              "      <th>Furthest Recruiting Stage Reached</th>\n",
              "      <th>Date of Application</th>\n",
              "      <th>Application Source</th>\n",
              "      <th>Years of Experience</th>\n",
              "      <th>Candidate Type</th>\n",
              "      <th>Education 1 Degree</th>\n",
              "      <th>School</th>\n",
              "      <th>Major</th>\n",
              "      <th>Education 2 Degree</th>\n",
              "      <th>School</th>\n",
              "      <th>Major</th>\n",
              "      <th>Education 3 Degree</th>\n",
              "      <th>School</th>\n",
              "      <th>Major</th>\n",
              "      <th>Education 4 Degree</th>\n",
              "      <th>School</th>\n",
              "      <th>Major</th>\n",
              "      <th>high_edu</th>\n",
              "    </tr>\n",
              "  </thead>\n",
              "  <tbody>\n",
              "    <tr>\n",
              "      <th>0</th>\n",
              "      <td>3668741</td>\n",
              "      <td>Associate Product Manager</td>\n",
              "      <td>Product</td>\n",
              "      <td>New Application</td>\n",
              "      <td>2016</td>\n",
              "      <td>Campus Event</td>\n",
              "      <td>0</td>\n",
              "      <td>Campus</td>\n",
              "      <td>3</td>\n",
              "      <td>NYU</td>\n",
              "      <td>Computer Science</td>\n",
              "      <td>3.0</td>\n",
              "      <td>UC Berkeley</td>\n",
              "      <td>Physics</td>\n",
              "      <td>NaN</td>\n",
              "      <td>NaN</td>\n",
              "      <td>NaN</td>\n",
              "      <td>NaN</td>\n",
              "      <td>NaN</td>\n",
              "      <td>NaN</td>\n",
              "      <td>3.0</td>\n",
              "    </tr>\n",
              "    <tr>\n",
              "      <th>1</th>\n",
              "      <td>783317</td>\n",
              "      <td>Operations Coordinator</td>\n",
              "      <td>Operations</td>\n",
              "      <td>New Application</td>\n",
              "      <td>2017</td>\n",
              "      <td>Campus Job Board</td>\n",
              "      <td>0</td>\n",
              "      <td>Campus</td>\n",
              "      <td>3</td>\n",
              "      <td>Harvard</td>\n",
              "      <td>Political Science</td>\n",
              "      <td>NaN</td>\n",
              "      <td>NaN</td>\n",
              "      <td>NaN</td>\n",
              "      <td>NaN</td>\n",
              "      <td>NaN</td>\n",
              "      <td>NaN</td>\n",
              "      <td>NaN</td>\n",
              "      <td>NaN</td>\n",
              "      <td>NaN</td>\n",
              "      <td>3.0</td>\n",
              "    </tr>\n",
              "    <tr>\n",
              "      <th>2</th>\n",
              "      <td>2046362</td>\n",
              "      <td>Business Operations Manager</td>\n",
              "      <td>Operations</td>\n",
              "      <td>New Application</td>\n",
              "      <td>2018</td>\n",
              "      <td>Agency</td>\n",
              "      <td>6</td>\n",
              "      <td>Experienced</td>\n",
              "      <td>3</td>\n",
              "      <td>Columbia</td>\n",
              "      <td>Statistics</td>\n",
              "      <td>2.0</td>\n",
              "      <td>NYU</td>\n",
              "      <td>Computer Science</td>\n",
              "      <td>2.0</td>\n",
              "      <td>University of Washington</td>\n",
              "      <td>Mathematics</td>\n",
              "      <td>NaN</td>\n",
              "      <td>NaN</td>\n",
              "      <td>NaN</td>\n",
              "      <td>2.0</td>\n",
              "    </tr>\n",
              "  </tbody>\n",
              "</table>\n",
              "</div>"
            ],
            "text/plain": [
              "   Candidate ID Number               Position Title  Department  \\\n",
              "0              3668741    Associate Product Manager     Product   \n",
              "1               783317       Operations Coordinator  Operations   \n",
              "2              2046362  Business Operations Manager  Operations   \n",
              "\n",
              "  Furthest Recruiting Stage Reached  Date of Application Application Source  \\\n",
              "0                   New Application                 2016       Campus Event   \n",
              "1                   New Application                 2017   Campus Job Board   \n",
              "2                   New Application                 2018             Agency   \n",
              "\n",
              "   Years of Experience Candidate Type  Education 1 Degree    School  \\\n",
              "0                    0         Campus                   3       NYU   \n",
              "1                    0         Campus                   3   Harvard   \n",
              "2                    6    Experienced                   3  Columbia   \n",
              "\n",
              "               Major  Education 2 Degree       School             Major  \\\n",
              "0   Computer Science                 3.0  UC Berkeley           Physics   \n",
              "1  Political Science                 NaN          NaN               NaN   \n",
              "2         Statistics                 2.0          NYU  Computer Science   \n",
              "\n",
              "   Education 3 Degree                    School        Major  \\\n",
              "0                 NaN                       NaN          NaN   \n",
              "1                 NaN                       NaN          NaN   \n",
              "2                 2.0  University of Washington  Mathematics   \n",
              "\n",
              "   Education 4 Degree School Major  high_edu  \n",
              "0                 NaN    NaN   NaN       3.0  \n",
              "1                 NaN    NaN   NaN       3.0  \n",
              "2                 NaN    NaN   NaN       2.0  "
            ]
          },
          "metadata": {
            "tags": []
          },
          "execution_count": 27
        }
      ]
    },
    {
      "cell_type": "markdown",
      "metadata": {
        "id": "QD5T-VOFouNJ"
      },
      "source": [
        "## 2) Identify candidates (i) whose Furthest Recruiting Stage Reached was In-House Interview or beyond, and (ii) who applied from the Application Sources of Career Fair or Campus Event only. Test for statistically significant differences in the rate at which these candidates reached the in-house interview stage or beyond between calendar year\n",
        "\n",
        "\n"
      ]
    },
    {
      "cell_type": "code",
      "metadata": {
        "colab": {
          "base_uri": "https://localhost:8080/"
        },
        "id": "yJYm_ihk_nm-",
        "outputId": "f0c64d20-8c6b-4207-c288-7c1317cb2a3a"
      },
      "source": [
        "dataset['Furthest Recruiting Stage Reached'].value_counts()"
      ],
      "execution_count": null,
      "outputs": [
        {
          "output_type": "execute_result",
          "data": {
            "text/plain": [
              "New Application       5639\n",
              "Phone Screen           886\n",
              "In-House Interview     749\n",
              "Offer Sent             134\n",
              "Name: Furthest Recruiting Stage Reached, dtype: int64"
            ]
          },
          "metadata": {
            "tags": []
          },
          "execution_count": 28
        }
      ]
    },
    {
      "cell_type": "code",
      "metadata": {
        "colab": {
          "base_uri": "https://localhost:8080/",
          "height": 357
        },
        "id": "x04B8TSnoxH6",
        "outputId": "84b87550-0d14-4274-ce50-5924627e8436"
      },
      "source": [
        "# lets identify the candidate who are in \"In-House Interview\" stage or beyond\n",
        "\n",
        "# candidate_inHou_beyond=dataset.loc[dataset['Furthest Recruiting Stage Reached']=='In-House Interview']\n",
        "\n",
        "candidate_inHou_beyond=dataset.drop(dataset[dataset['Furthest Recruiting Stage Reached'] == 'New Application' ].index)\n",
        "candidate_inHou_beyond=candidate_inHou_beyond.drop(candidate_inHou_beyond[candidate_inHou_beyond['Furthest Recruiting Stage Reached'] == 'Phone Screen' ].index)\n",
        "\n",
        "display(candidate_inHou_beyond.head(3))\n",
        "print(\"Total number of candidate who are in 'In-House Interview' stage or beyond are: \",candidate_inHou_beyond.shape[0])\n",
        "candidate_inHou_beyond.shape"
      ],
      "execution_count": null,
      "outputs": [
        {
          "output_type": "display_data",
          "data": {
            "text/html": [
              "<div>\n",
              "<style scoped>\n",
              "    .dataframe tbody tr th:only-of-type {\n",
              "        vertical-align: middle;\n",
              "    }\n",
              "\n",
              "    .dataframe tbody tr th {\n",
              "        vertical-align: top;\n",
              "    }\n",
              "\n",
              "    .dataframe thead th {\n",
              "        text-align: right;\n",
              "    }\n",
              "</style>\n",
              "<table border=\"1\" class=\"dataframe\">\n",
              "  <thead>\n",
              "    <tr style=\"text-align: right;\">\n",
              "      <th></th>\n",
              "      <th>Candidate ID Number</th>\n",
              "      <th>Position Title</th>\n",
              "      <th>Department</th>\n",
              "      <th>Furthest Recruiting Stage Reached</th>\n",
              "      <th>Date of Application</th>\n",
              "      <th>Application Source</th>\n",
              "      <th>Years of Experience</th>\n",
              "      <th>Candidate Type</th>\n",
              "      <th>Education 1 Degree</th>\n",
              "      <th>School</th>\n",
              "      <th>Major</th>\n",
              "      <th>Education 2 Degree</th>\n",
              "      <th>School</th>\n",
              "      <th>Major</th>\n",
              "      <th>Education 3 Degree</th>\n",
              "      <th>School</th>\n",
              "      <th>Major</th>\n",
              "      <th>Education 4 Degree</th>\n",
              "      <th>School</th>\n",
              "      <th>Major</th>\n",
              "      <th>high_edu</th>\n",
              "    </tr>\n",
              "  </thead>\n",
              "  <tbody>\n",
              "    <tr>\n",
              "      <th>21</th>\n",
              "      <td>3722351</td>\n",
              "      <td>Associate Relationship Manager</td>\n",
              "      <td>Sales</td>\n",
              "      <td>In-House Interview</td>\n",
              "      <td>2018</td>\n",
              "      <td>Campus Job Board</td>\n",
              "      <td>1</td>\n",
              "      <td>Campus</td>\n",
              "      <td>3</td>\n",
              "      <td>Columbia</td>\n",
              "      <td>Management</td>\n",
              "      <td>3.0</td>\n",
              "      <td>MIT</td>\n",
              "      <td>Economics</td>\n",
              "      <td>NaN</td>\n",
              "      <td>NaN</td>\n",
              "      <td>NaN</td>\n",
              "      <td>NaN</td>\n",
              "      <td>NaN</td>\n",
              "      <td>NaN</td>\n",
              "      <td>3.0</td>\n",
              "    </tr>\n",
              "    <tr>\n",
              "      <th>32</th>\n",
              "      <td>239982</td>\n",
              "      <td>Business Operations Manager</td>\n",
              "      <td>Operations</td>\n",
              "      <td>In-House Interview</td>\n",
              "      <td>2018</td>\n",
              "      <td>Agency</td>\n",
              "      <td>6</td>\n",
              "      <td>Experienced</td>\n",
              "      <td>3</td>\n",
              "      <td>University of Texas</td>\n",
              "      <td>Mathematics</td>\n",
              "      <td>NaN</td>\n",
              "      <td>NaN</td>\n",
              "      <td>NaN</td>\n",
              "      <td>NaN</td>\n",
              "      <td>NaN</td>\n",
              "      <td>NaN</td>\n",
              "      <td>NaN</td>\n",
              "      <td>NaN</td>\n",
              "      <td>NaN</td>\n",
              "      <td>3.0</td>\n",
              "    </tr>\n",
              "    <tr>\n",
              "      <th>39</th>\n",
              "      <td>747636</td>\n",
              "      <td>Associate Relationship Manager</td>\n",
              "      <td>Sales</td>\n",
              "      <td>In-House Interview</td>\n",
              "      <td>2017</td>\n",
              "      <td>Campus Event</td>\n",
              "      <td>0</td>\n",
              "      <td>Campus</td>\n",
              "      <td>3</td>\n",
              "      <td>University of Texas</td>\n",
              "      <td>Political Science</td>\n",
              "      <td>3.0</td>\n",
              "      <td>NYU</td>\n",
              "      <td>Business</td>\n",
              "      <td>NaN</td>\n",
              "      <td>NaN</td>\n",
              "      <td>NaN</td>\n",
              "      <td>NaN</td>\n",
              "      <td>NaN</td>\n",
              "      <td>NaN</td>\n",
              "      <td>3.0</td>\n",
              "    </tr>\n",
              "  </tbody>\n",
              "</table>\n",
              "</div>"
            ],
            "text/plain": [
              "    Candidate ID Number                  Position Title  Department  \\\n",
              "21              3722351  Associate Relationship Manager       Sales   \n",
              "32               239982     Business Operations Manager  Operations   \n",
              "39               747636  Associate Relationship Manager       Sales   \n",
              "\n",
              "   Furthest Recruiting Stage Reached  Date of Application Application Source  \\\n",
              "21                In-House Interview                 2018   Campus Job Board   \n",
              "32                In-House Interview                 2018             Agency   \n",
              "39                In-House Interview                 2017       Campus Event   \n",
              "\n",
              "    Years of Experience Candidate Type  Education 1 Degree  \\\n",
              "21                    1         Campus                   3   \n",
              "32                    6    Experienced                   3   \n",
              "39                    0         Campus                   3   \n",
              "\n",
              "                 School              Major  Education 2 Degree School  \\\n",
              "21             Columbia         Management                 3.0    MIT   \n",
              "32  University of Texas        Mathematics                 NaN    NaN   \n",
              "39  University of Texas  Political Science                 3.0    NYU   \n",
              "\n",
              "        Major  Education 3 Degree School Major  Education 4 Degree School  \\\n",
              "21  Economics                 NaN    NaN   NaN                 NaN    NaN   \n",
              "32        NaN                 NaN    NaN   NaN                 NaN    NaN   \n",
              "39   Business                 NaN    NaN   NaN                 NaN    NaN   \n",
              "\n",
              "   Major  high_edu  \n",
              "21   NaN       3.0  \n",
              "32   NaN       3.0  \n",
              "39   NaN       3.0  "
            ]
          },
          "metadata": {
            "tags": []
          }
        },
        {
          "output_type": "stream",
          "text": [
            "Total number of candidate who are in 'In-House Interview' stage or beyond are:  883\n"
          ],
          "name": "stdout"
        },
        {
          "output_type": "execute_result",
          "data": {
            "text/plain": [
              "(883, 21)"
            ]
          },
          "metadata": {
            "tags": []
          },
          "execution_count": 29
        }
      ]
    },
    {
      "cell_type": "code",
      "metadata": {
        "id": "1nfB9JV7H6hn"
      },
      "source": [
        ""
      ],
      "execution_count": null,
      "outputs": []
    },
    {
      "cell_type": "markdown",
      "metadata": {
        "id": "j5ef6KmdyED8"
      },
      "source": [
        "#### (ii) who applied from the Application Sources of Career Fair or Campus Event only"
      ]
    },
    {
      "cell_type": "code",
      "metadata": {
        "colab": {
          "base_uri": "https://localhost:8080/",
          "height": 183
        },
        "id": "-BvOiBkJpqw0",
        "outputId": "84f2aaca-5258-4117-f56e-e9172acc545f"
      },
      "source": [
        "# lets identify the candidate who applied from the Application Sources of Career Fair or Campus Event only.\n",
        "\n",
        "display(dataset['Application Source'].value_counts())\n"
      ],
      "execution_count": null,
      "outputs": [
        {
          "output_type": "display_data",
          "data": {
            "text/plain": [
              "Campus Job Board     2616\n",
              "Career Fair          1550\n",
              "Campus Event          939\n",
              "Website               906\n",
              "Advertisement         765\n",
              "Agency                396\n",
              "Outsourced            162\n",
              "Internal Referral      74\n",
              "Name: Application Source, dtype: int64"
            ]
          },
          "metadata": {
            "tags": []
          }
        }
      ]
    },
    {
      "cell_type": "code",
      "metadata": {
        "id": "ikZwGbxKH_mD"
      },
      "source": [
        ""
      ],
      "execution_count": null,
      "outputs": []
    },
    {
      "cell_type": "code",
      "metadata": {
        "colab": {
          "base_uri": "https://localhost:8080/"
        },
        "id": "vkEjBNwtA6wK",
        "outputId": "9e3e1526-1d02-4bc1-ea88-ee60f58ef033"
      },
      "source": [
        "# lets take only \"New applications\" data\n",
        "new_applications= dataset.loc[dataset['Furthest Recruiting Stage Reached']=='New Application']\n",
        "new_applications['Application Source'].value_counts()"
      ],
      "execution_count": null,
      "outputs": [
        {
          "output_type": "execute_result",
          "data": {
            "text/plain": [
              "Campus Job Board     2105\n",
              "Career Fair          1211\n",
              "Website               659\n",
              "Campus Event          622\n",
              "Advertisement         606\n",
              "Agency                268\n",
              "Outsourced            124\n",
              "Internal Referral      44\n",
              "Name: Application Source, dtype: int64"
            ]
          },
          "metadata": {
            "tags": []
          },
          "execution_count": 31
        }
      ]
    },
    {
      "cell_type": "code",
      "metadata": {
        "colab": {
          "base_uri": "https://localhost:8080/"
        },
        "id": "7SsGj-vnEuMW",
        "outputId": "5d6cf008-f37b-4cd1-8bde-00cc8f7a45ab"
      },
      "source": [
        "print(\"candidate who applied from Career Fair are : \",\n",
        "      new_applications['Application Source'].value_counts().to_list()[1])\n",
        "\n",
        "print(\" candidate who applied from Campus Event are : \",\n",
        "      new_applications['Application Source'].value_counts().to_list()[3])"
      ],
      "execution_count": null,
      "outputs": [
        {
          "output_type": "stream",
          "text": [
            "candidate who applied from Career Fair are :  1211\n",
            " candidate who applied from Campus Event are :  622\n"
          ],
          "name": "stdout"
        }
      ]
    },
    {
      "cell_type": "code",
      "metadata": {
        "id": "DPEuyrzoFHjO"
      },
      "source": [
        "# OR\n",
        "# OR"
      ],
      "execution_count": null,
      "outputs": []
    },
    {
      "cell_type": "code",
      "metadata": {
        "colab": {
          "base_uri": "https://localhost:8080/",
          "height": 420
        },
        "id": "ENjk6t-Wp5iy",
        "outputId": "58e3dbd6-6eaa-40bc-e76a-6df74900e8b8"
      },
      "source": [
        "# From Career Fair\n",
        "# candidates record\n",
        "candidate_Career_Fair=new_applications.loc[new_applications['Application Source']=='Career Fair'].reset_index(drop=True)\n",
        "display(candidate_Career_Fair.shape)\n",
        "print(\"Total number of candidate who are applied from the Application Sources of Career Fair are: \",candidate_Career_Fair.shape[0])\n",
        "candidate_Career_Fair.head()\n"
      ],
      "execution_count": null,
      "outputs": [
        {
          "output_type": "display_data",
          "data": {
            "text/plain": [
              "(1211, 21)"
            ]
          },
          "metadata": {
            "tags": []
          }
        },
        {
          "output_type": "stream",
          "text": [
            "Total number of candidate who are applied from the Application Sources of Career Fair are:  1211\n"
          ],
          "name": "stdout"
        },
        {
          "output_type": "execute_result",
          "data": {
            "text/html": [
              "<div>\n",
              "<style scoped>\n",
              "    .dataframe tbody tr th:only-of-type {\n",
              "        vertical-align: middle;\n",
              "    }\n",
              "\n",
              "    .dataframe tbody tr th {\n",
              "        vertical-align: top;\n",
              "    }\n",
              "\n",
              "    .dataframe thead th {\n",
              "        text-align: right;\n",
              "    }\n",
              "</style>\n",
              "<table border=\"1\" class=\"dataframe\">\n",
              "  <thead>\n",
              "    <tr style=\"text-align: right;\">\n",
              "      <th></th>\n",
              "      <th>Candidate ID Number</th>\n",
              "      <th>Position Title</th>\n",
              "      <th>Department</th>\n",
              "      <th>Furthest Recruiting Stage Reached</th>\n",
              "      <th>Date of Application</th>\n",
              "      <th>Application Source</th>\n",
              "      <th>Years of Experience</th>\n",
              "      <th>Candidate Type</th>\n",
              "      <th>Education 1 Degree</th>\n",
              "      <th>School</th>\n",
              "      <th>Major</th>\n",
              "      <th>Education 2 Degree</th>\n",
              "      <th>School</th>\n",
              "      <th>Major</th>\n",
              "      <th>Education 3 Degree</th>\n",
              "      <th>School</th>\n",
              "      <th>Major</th>\n",
              "      <th>Education 4 Degree</th>\n",
              "      <th>School</th>\n",
              "      <th>Major</th>\n",
              "      <th>high_edu</th>\n",
              "    </tr>\n",
              "  </thead>\n",
              "  <tbody>\n",
              "    <tr>\n",
              "      <th>0</th>\n",
              "      <td>39321</td>\n",
              "      <td>System Engineer</td>\n",
              "      <td>Engineering</td>\n",
              "      <td>New Application</td>\n",
              "      <td>2018</td>\n",
              "      <td>Career Fair</td>\n",
              "      <td>0</td>\n",
              "      <td>Campus</td>\n",
              "      <td>3</td>\n",
              "      <td>University of Washington</td>\n",
              "      <td>Computer Science</td>\n",
              "      <td>NaN</td>\n",
              "      <td>NaN</td>\n",
              "      <td>NaN</td>\n",
              "      <td>NaN</td>\n",
              "      <td>NaN</td>\n",
              "      <td>NaN</td>\n",
              "      <td>NaN</td>\n",
              "      <td>NaN</td>\n",
              "      <td>NaN</td>\n",
              "      <td>3.0</td>\n",
              "    </tr>\n",
              "    <tr>\n",
              "      <th>1</th>\n",
              "      <td>103092</td>\n",
              "      <td>System Engineer</td>\n",
              "      <td>Engineering</td>\n",
              "      <td>New Application</td>\n",
              "      <td>2016</td>\n",
              "      <td>Career Fair</td>\n",
              "      <td>0</td>\n",
              "      <td>Campus</td>\n",
              "      <td>3</td>\n",
              "      <td>Harvard</td>\n",
              "      <td>Statistics</td>\n",
              "      <td>NaN</td>\n",
              "      <td>NaN</td>\n",
              "      <td>NaN</td>\n",
              "      <td>NaN</td>\n",
              "      <td>NaN</td>\n",
              "      <td>NaN</td>\n",
              "      <td>NaN</td>\n",
              "      <td>NaN</td>\n",
              "      <td>NaN</td>\n",
              "      <td>3.0</td>\n",
              "    </tr>\n",
              "    <tr>\n",
              "      <th>2</th>\n",
              "      <td>39050</td>\n",
              "      <td>System Engineer</td>\n",
              "      <td>Engineering</td>\n",
              "      <td>New Application</td>\n",
              "      <td>2016</td>\n",
              "      <td>Career Fair</td>\n",
              "      <td>0</td>\n",
              "      <td>Campus</td>\n",
              "      <td>3</td>\n",
              "      <td>NYU</td>\n",
              "      <td>Mathematics</td>\n",
              "      <td>NaN</td>\n",
              "      <td>NaN</td>\n",
              "      <td>NaN</td>\n",
              "      <td>NaN</td>\n",
              "      <td>NaN</td>\n",
              "      <td>NaN</td>\n",
              "      <td>NaN</td>\n",
              "      <td>NaN</td>\n",
              "      <td>NaN</td>\n",
              "      <td>3.0</td>\n",
              "    </tr>\n",
              "    <tr>\n",
              "      <th>3</th>\n",
              "      <td>36395</td>\n",
              "      <td>System Engineer</td>\n",
              "      <td>Engineering</td>\n",
              "      <td>New Application</td>\n",
              "      <td>2018</td>\n",
              "      <td>Career Fair</td>\n",
              "      <td>0</td>\n",
              "      <td>Campus</td>\n",
              "      <td>3</td>\n",
              "      <td>UC Berkeley</td>\n",
              "      <td>Mathematics</td>\n",
              "      <td>NaN</td>\n",
              "      <td>NaN</td>\n",
              "      <td>NaN</td>\n",
              "      <td>NaN</td>\n",
              "      <td>NaN</td>\n",
              "      <td>NaN</td>\n",
              "      <td>NaN</td>\n",
              "      <td>NaN</td>\n",
              "      <td>NaN</td>\n",
              "      <td>3.0</td>\n",
              "    </tr>\n",
              "    <tr>\n",
              "      <th>4</th>\n",
              "      <td>157311</td>\n",
              "      <td>System Engineer</td>\n",
              "      <td>Engineering</td>\n",
              "      <td>New Application</td>\n",
              "      <td>2018</td>\n",
              "      <td>Career Fair</td>\n",
              "      <td>0</td>\n",
              "      <td>Campus</td>\n",
              "      <td>3</td>\n",
              "      <td>MIT</td>\n",
              "      <td>Mathematics</td>\n",
              "      <td>NaN</td>\n",
              "      <td>NaN</td>\n",
              "      <td>NaN</td>\n",
              "      <td>NaN</td>\n",
              "      <td>NaN</td>\n",
              "      <td>NaN</td>\n",
              "      <td>NaN</td>\n",
              "      <td>NaN</td>\n",
              "      <td>NaN</td>\n",
              "      <td>3.0</td>\n",
              "    </tr>\n",
              "  </tbody>\n",
              "</table>\n",
              "</div>"
            ],
            "text/plain": [
              "   Candidate ID Number   Position Title   Department  \\\n",
              "0                39321  System Engineer  Engineering   \n",
              "1               103092  System Engineer  Engineering   \n",
              "2                39050  System Engineer  Engineering   \n",
              "3                36395  System Engineer  Engineering   \n",
              "4               157311  System Engineer  Engineering   \n",
              "\n",
              "  Furthest Recruiting Stage Reached  Date of Application Application Source  \\\n",
              "0                   New Application                 2018        Career Fair   \n",
              "1                   New Application                 2016        Career Fair   \n",
              "2                   New Application                 2016        Career Fair   \n",
              "3                   New Application                 2018        Career Fair   \n",
              "4                   New Application                 2018        Career Fair   \n",
              "\n",
              "   Years of Experience Candidate Type  Education 1 Degree  \\\n",
              "0                    0         Campus                   3   \n",
              "1                    0         Campus                   3   \n",
              "2                    0         Campus                   3   \n",
              "3                    0         Campus                   3   \n",
              "4                    0         Campus                   3   \n",
              "\n",
              "                     School             Major  Education 2 Degree School  \\\n",
              "0  University of Washington  Computer Science                 NaN    NaN   \n",
              "1                   Harvard        Statistics                 NaN    NaN   \n",
              "2                       NYU       Mathematics                 NaN    NaN   \n",
              "3               UC Berkeley       Mathematics                 NaN    NaN   \n",
              "4                       MIT       Mathematics                 NaN    NaN   \n",
              "\n",
              "  Major  Education 3 Degree School Major  Education 4 Degree School Major  \\\n",
              "0   NaN                 NaN    NaN   NaN                 NaN    NaN   NaN   \n",
              "1   NaN                 NaN    NaN   NaN                 NaN    NaN   NaN   \n",
              "2   NaN                 NaN    NaN   NaN                 NaN    NaN   NaN   \n",
              "3   NaN                 NaN    NaN   NaN                 NaN    NaN   NaN   \n",
              "4   NaN                 NaN    NaN   NaN                 NaN    NaN   NaN   \n",
              "\n",
              "   high_edu  \n",
              "0       3.0  \n",
              "1       3.0  \n",
              "2       3.0  \n",
              "3       3.0  \n",
              "4       3.0  "
            ]
          },
          "metadata": {
            "tags": []
          },
          "execution_count": 34
        }
      ]
    },
    {
      "cell_type": "code",
      "metadata": {
        "colab": {
          "base_uri": "https://localhost:8080/",
          "height": 437
        },
        "id": "-wiMEYwGtJVb",
        "outputId": "63206d47-4069-4d5c-b130-dd28673645c9"
      },
      "source": [
        "# From Campus Event\n",
        "# candidates record\n",
        "candidate_Campus_Event=new_applications.loc[new_applications['Application Source']=='Campus Event'].reset_index(drop=True)\n",
        "display(candidate_Campus_Event.shape)\n",
        "print(\"Total number of candidate who are applied from the Application Sources of Campus Event are: \",candidate_Campus_Event.shape[0])\n",
        "candidate_Campus_Event.head()"
      ],
      "execution_count": null,
      "outputs": [
        {
          "output_type": "display_data",
          "data": {
            "text/plain": [
              "(622, 21)"
            ]
          },
          "metadata": {
            "tags": []
          }
        },
        {
          "output_type": "stream",
          "text": [
            "Total number of candidate who are applied from the Application Sources of Campus Event are:  622\n"
          ],
          "name": "stdout"
        },
        {
          "output_type": "execute_result",
          "data": {
            "text/html": [
              "<div>\n",
              "<style scoped>\n",
              "    .dataframe tbody tr th:only-of-type {\n",
              "        vertical-align: middle;\n",
              "    }\n",
              "\n",
              "    .dataframe tbody tr th {\n",
              "        vertical-align: top;\n",
              "    }\n",
              "\n",
              "    .dataframe thead th {\n",
              "        text-align: right;\n",
              "    }\n",
              "</style>\n",
              "<table border=\"1\" class=\"dataframe\">\n",
              "  <thead>\n",
              "    <tr style=\"text-align: right;\">\n",
              "      <th></th>\n",
              "      <th>Candidate ID Number</th>\n",
              "      <th>Position Title</th>\n",
              "      <th>Department</th>\n",
              "      <th>Furthest Recruiting Stage Reached</th>\n",
              "      <th>Date of Application</th>\n",
              "      <th>Application Source</th>\n",
              "      <th>Years of Experience</th>\n",
              "      <th>Candidate Type</th>\n",
              "      <th>Education 1 Degree</th>\n",
              "      <th>School</th>\n",
              "      <th>Major</th>\n",
              "      <th>Education 2 Degree</th>\n",
              "      <th>School</th>\n",
              "      <th>Major</th>\n",
              "      <th>Education 3 Degree</th>\n",
              "      <th>School</th>\n",
              "      <th>Major</th>\n",
              "      <th>Education 4 Degree</th>\n",
              "      <th>School</th>\n",
              "      <th>Major</th>\n",
              "      <th>high_edu</th>\n",
              "    </tr>\n",
              "  </thead>\n",
              "  <tbody>\n",
              "    <tr>\n",
              "      <th>0</th>\n",
              "      <td>3668741</td>\n",
              "      <td>Associate Product Manager</td>\n",
              "      <td>Product</td>\n",
              "      <td>New Application</td>\n",
              "      <td>2016</td>\n",
              "      <td>Campus Event</td>\n",
              "      <td>0</td>\n",
              "      <td>Campus</td>\n",
              "      <td>3</td>\n",
              "      <td>NYU</td>\n",
              "      <td>Computer Science</td>\n",
              "      <td>3.0</td>\n",
              "      <td>UC Berkeley</td>\n",
              "      <td>Physics</td>\n",
              "      <td>NaN</td>\n",
              "      <td>NaN</td>\n",
              "      <td>NaN</td>\n",
              "      <td>NaN</td>\n",
              "      <td>NaN</td>\n",
              "      <td>NaN</td>\n",
              "      <td>3.0</td>\n",
              "    </tr>\n",
              "    <tr>\n",
              "      <th>1</th>\n",
              "      <td>135087</td>\n",
              "      <td>Operations Coordinator</td>\n",
              "      <td>Operations</td>\n",
              "      <td>New Application</td>\n",
              "      <td>2018</td>\n",
              "      <td>Campus Event</td>\n",
              "      <td>0</td>\n",
              "      <td>Campus</td>\n",
              "      <td>3</td>\n",
              "      <td>Columbia</td>\n",
              "      <td>Business</td>\n",
              "      <td>NaN</td>\n",
              "      <td>NaN</td>\n",
              "      <td>NaN</td>\n",
              "      <td>NaN</td>\n",
              "      <td>NaN</td>\n",
              "      <td>NaN</td>\n",
              "      <td>NaN</td>\n",
              "      <td>NaN</td>\n",
              "      <td>NaN</td>\n",
              "      <td>3.0</td>\n",
              "    </tr>\n",
              "    <tr>\n",
              "      <th>2</th>\n",
              "      <td>104667</td>\n",
              "      <td>System Engineer</td>\n",
              "      <td>Engineering</td>\n",
              "      <td>New Application</td>\n",
              "      <td>2016</td>\n",
              "      <td>Campus Event</td>\n",
              "      <td>0</td>\n",
              "      <td>Campus</td>\n",
              "      <td>3</td>\n",
              "      <td>NYU</td>\n",
              "      <td>Mathematics</td>\n",
              "      <td>1.0</td>\n",
              "      <td>University of Texas</td>\n",
              "      <td>Statistics</td>\n",
              "      <td>NaN</td>\n",
              "      <td>NaN</td>\n",
              "      <td>NaN</td>\n",
              "      <td>NaN</td>\n",
              "      <td>NaN</td>\n",
              "      <td>NaN</td>\n",
              "      <td>1.0</td>\n",
              "    </tr>\n",
              "    <tr>\n",
              "      <th>3</th>\n",
              "      <td>5589284</td>\n",
              "      <td>Financial Analyst</td>\n",
              "      <td>Finance</td>\n",
              "      <td>New Application</td>\n",
              "      <td>2018</td>\n",
              "      <td>Campus Event</td>\n",
              "      <td>0</td>\n",
              "      <td>Campus</td>\n",
              "      <td>3</td>\n",
              "      <td>University of Michigan</td>\n",
              "      <td>Computer Science</td>\n",
              "      <td>NaN</td>\n",
              "      <td>NaN</td>\n",
              "      <td>NaN</td>\n",
              "      <td>NaN</td>\n",
              "      <td>NaN</td>\n",
              "      <td>NaN</td>\n",
              "      <td>NaN</td>\n",
              "      <td>NaN</td>\n",
              "      <td>NaN</td>\n",
              "      <td>3.0</td>\n",
              "    </tr>\n",
              "    <tr>\n",
              "      <th>4</th>\n",
              "      <td>4066476</td>\n",
              "      <td>System Engineer</td>\n",
              "      <td>Engineering</td>\n",
              "      <td>New Application</td>\n",
              "      <td>2018</td>\n",
              "      <td>Campus Event</td>\n",
              "      <td>0</td>\n",
              "      <td>Campus</td>\n",
              "      <td>1</td>\n",
              "      <td>University of Texas</td>\n",
              "      <td>Physics</td>\n",
              "      <td>2.0</td>\n",
              "      <td>Vanderbilt</td>\n",
              "      <td>English</td>\n",
              "      <td>3.0</td>\n",
              "      <td>UC Berkeley</td>\n",
              "      <td>Mathematics</td>\n",
              "      <td>NaN</td>\n",
              "      <td>NaN</td>\n",
              "      <td>NaN</td>\n",
              "      <td>1.0</td>\n",
              "    </tr>\n",
              "  </tbody>\n",
              "</table>\n",
              "</div>"
            ],
            "text/plain": [
              "   Candidate ID Number             Position Title   Department  \\\n",
              "0              3668741  Associate Product Manager      Product   \n",
              "1               135087     Operations Coordinator   Operations   \n",
              "2               104667            System Engineer  Engineering   \n",
              "3              5589284          Financial Analyst      Finance   \n",
              "4              4066476            System Engineer  Engineering   \n",
              "\n",
              "  Furthest Recruiting Stage Reached  Date of Application Application Source  \\\n",
              "0                   New Application                 2016       Campus Event   \n",
              "1                   New Application                 2018       Campus Event   \n",
              "2                   New Application                 2016       Campus Event   \n",
              "3                   New Application                 2018       Campus Event   \n",
              "4                   New Application                 2018       Campus Event   \n",
              "\n",
              "   Years of Experience Candidate Type  Education 1 Degree  \\\n",
              "0                    0         Campus                   3   \n",
              "1                    0         Campus                   3   \n",
              "2                    0         Campus                   3   \n",
              "3                    0         Campus                   3   \n",
              "4                    0         Campus                   1   \n",
              "\n",
              "                   School             Major  Education 2 Degree  \\\n",
              "0                     NYU  Computer Science                 3.0   \n",
              "1                Columbia          Business                 NaN   \n",
              "2                     NYU       Mathematics                 1.0   \n",
              "3  University of Michigan  Computer Science                 NaN   \n",
              "4     University of Texas           Physics                 2.0   \n",
              "\n",
              "                School       Major  Education 3 Degree       School  \\\n",
              "0          UC Berkeley     Physics                 NaN          NaN   \n",
              "1                  NaN         NaN                 NaN          NaN   \n",
              "2  University of Texas  Statistics                 NaN          NaN   \n",
              "3                  NaN         NaN                 NaN          NaN   \n",
              "4           Vanderbilt     English                 3.0  UC Berkeley   \n",
              "\n",
              "         Major  Education 4 Degree School Major  high_edu  \n",
              "0          NaN                 NaN    NaN   NaN       3.0  \n",
              "1          NaN                 NaN    NaN   NaN       3.0  \n",
              "2          NaN                 NaN    NaN   NaN       1.0  \n",
              "3          NaN                 NaN    NaN   NaN       3.0  \n",
              "4  Mathematics                 NaN    NaN   NaN       1.0  "
            ]
          },
          "metadata": {
            "tags": []
          },
          "execution_count": 35
        }
      ]
    },
    {
      "cell_type": "code",
      "metadata": {
        "id": "cQ2c503uuG_0"
      },
      "source": [
        ""
      ],
      "execution_count": null,
      "outputs": []
    },
    {
      "cell_type": "markdown",
      "metadata": {
        "id": "oUnQQQk0yLdb"
      },
      "source": [
        "##### Test for statistically significant differences in the rate at which these candidates reached the in-house interview stage or beyond between calendar year"
      ]
    },
    {
      "cell_type": "code",
      "metadata": {
        "colab": {
          "base_uri": "https://localhost:8080/"
        },
        "id": "LpxNUDBGCzqY",
        "outputId": "7a114a65-c7b7-40a4-d54d-ec9de28c1c14"
      },
      "source": [
        "candidate_inHou_beyond['Application Source'].value_counts()"
      ],
      "execution_count": null,
      "outputs": [
        {
          "output_type": "execute_result",
          "data": {
            "text/plain": [
              "Campus Job Board     243\n",
              "Campus Event         182\n",
              "Career Fair          149\n",
              "Website              120\n",
              "Advertisement         78\n",
              "Agency                72\n",
              "Outsourced            24\n",
              "Internal Referral     15\n",
              "Name: Application Source, dtype: int64"
            ]
          },
          "metadata": {
            "tags": []
          },
          "execution_count": 36
        }
      ]
    },
    {
      "cell_type": "code",
      "metadata": {
        "colab": {
          "base_uri": "https://localhost:8080/"
        },
        "id": "Li41y2YvDlTp",
        "outputId": "d6ad74e2-63bd-45fb-e8b2-70d4db709341"
      },
      "source": [
        "print(\"Campus Event Candidates reaches the in-house interview stage or beyond are : \",\n",
        "      candidate_inHou_beyond['Application Source'].value_counts().to_list()[1])\n",
        "\n",
        "print(\"Career Fair Candidates reaches the in-house interview stage or beyond are : \",\n",
        "      candidate_inHou_beyond['Application Source'].value_counts().to_list()[2])"
      ],
      "execution_count": null,
      "outputs": [
        {
          "output_type": "stream",
          "text": [
            "Campus Event Candidates reaches the in-house interview stage or beyond are :  182\n",
            "Career Fair Candidates reaches the in-house interview stage or beyond are :  149\n"
          ],
          "name": "stdout"
        }
      ]
    },
    {
      "cell_type": "code",
      "metadata": {
        "id": "7xxxUv-BFncz"
      },
      "source": [
        "# # lets take only year from 'Date of Application'\n",
        "# candidate_inHou_beyond['Date of Application']=candidate_inHou_beyond['Date of Application'].apply(pd.to_datetime)\n",
        "# candidate_inHou_beyond['Date of Application']=pd.DatetimeIndex(candidate_inHou_beyond['Date of Application']).year\n",
        "# candidate_inHou_beyond.head(3)\n"
      ],
      "execution_count": null,
      "outputs": []
    },
    {
      "cell_type": "code",
      "metadata": {
        "colab": {
          "base_uri": "https://localhost:8080/",
          "height": 210
        },
        "id": "0gOEGh1SFns1",
        "outputId": "5acb15e0-920d-4cf6-8c03-df8388f27003"
      },
      "source": [
        "pvtable_date_source_inhouse=pd.pivot_table(candidate_inHou_beyond,\n",
        "               values='Candidate ID Number',\n",
        "               columns=['Application Source'],\n",
        "               index=['Date of Application'],\n",
        "               aggfunc=len,\n",
        "               fill_value=0)\n",
        "pvtable_date_source_inhouse"
      ],
      "execution_count": null,
      "outputs": [
        {
          "output_type": "execute_result",
          "data": {
            "text/html": [
              "<div>\n",
              "<style scoped>\n",
              "    .dataframe tbody tr th:only-of-type {\n",
              "        vertical-align: middle;\n",
              "    }\n",
              "\n",
              "    .dataframe tbody tr th {\n",
              "        vertical-align: top;\n",
              "    }\n",
              "\n",
              "    .dataframe thead th {\n",
              "        text-align: right;\n",
              "    }\n",
              "</style>\n",
              "<table border=\"1\" class=\"dataframe\">\n",
              "  <thead>\n",
              "    <tr style=\"text-align: right;\">\n",
              "      <th>Application Source</th>\n",
              "      <th>Advertisement</th>\n",
              "      <th>Agency</th>\n",
              "      <th>Campus Event</th>\n",
              "      <th>Campus Job Board</th>\n",
              "      <th>Career Fair</th>\n",
              "      <th>Internal Referral</th>\n",
              "      <th>Outsourced</th>\n",
              "      <th>Website</th>\n",
              "    </tr>\n",
              "    <tr>\n",
              "      <th>Date of Application</th>\n",
              "      <th></th>\n",
              "      <th></th>\n",
              "      <th></th>\n",
              "      <th></th>\n",
              "      <th></th>\n",
              "      <th></th>\n",
              "      <th></th>\n",
              "      <th></th>\n",
              "    </tr>\n",
              "  </thead>\n",
              "  <tbody>\n",
              "    <tr>\n",
              "      <th>2016</th>\n",
              "      <td>22</td>\n",
              "      <td>10</td>\n",
              "      <td>56</td>\n",
              "      <td>72</td>\n",
              "      <td>42</td>\n",
              "      <td>2</td>\n",
              "      <td>11</td>\n",
              "      <td>32</td>\n",
              "    </tr>\n",
              "    <tr>\n",
              "      <th>2017</th>\n",
              "      <td>24</td>\n",
              "      <td>26</td>\n",
              "      <td>52</td>\n",
              "      <td>58</td>\n",
              "      <td>42</td>\n",
              "      <td>5</td>\n",
              "      <td>5</td>\n",
              "      <td>33</td>\n",
              "    </tr>\n",
              "    <tr>\n",
              "      <th>2018</th>\n",
              "      <td>32</td>\n",
              "      <td>36</td>\n",
              "      <td>74</td>\n",
              "      <td>113</td>\n",
              "      <td>65</td>\n",
              "      <td>8</td>\n",
              "      <td>8</td>\n",
              "      <td>55</td>\n",
              "    </tr>\n",
              "  </tbody>\n",
              "</table>\n",
              "</div>"
            ],
            "text/plain": [
              "Application Source   Advertisement  Agency  Campus Event  Campus Job Board  \\\n",
              "Date of Application                                                          \n",
              "2016                            22      10            56                72   \n",
              "2017                            24      26            52                58   \n",
              "2018                            32      36            74               113   \n",
              "\n",
              "Application Source   Career Fair  Internal Referral  Outsourced  Website  \n",
              "Date of Application                                                       \n",
              "2016                          42                  2          11       32  \n",
              "2017                          42                  5           5       33  \n",
              "2018                          65                  8           8       55  "
            ]
          },
          "metadata": {
            "tags": []
          },
          "execution_count": 39
        }
      ]
    },
    {
      "cell_type": "code",
      "metadata": {
        "colab": {
          "base_uri": "https://localhost:8080/",
          "height": 210
        },
        "id": "-v9ifYc6GHte",
        "outputId": "fac37750-24fe-4b94-bfa0-008eadb2af9d"
      },
      "source": [
        "pvtable_date_source_newapp=pd.pivot_table(new_applications,\n",
        "               values='Candidate ID Number',\n",
        "               columns=['Application Source'],\n",
        "               index=['Date of Application'],\n",
        "               aggfunc=len,\n",
        "               fill_value=0)\n",
        "pvtable_date_source_newapp"
      ],
      "execution_count": null,
      "outputs": [
        {
          "output_type": "execute_result",
          "data": {
            "text/html": [
              "<div>\n",
              "<style scoped>\n",
              "    .dataframe tbody tr th:only-of-type {\n",
              "        vertical-align: middle;\n",
              "    }\n",
              "\n",
              "    .dataframe tbody tr th {\n",
              "        vertical-align: top;\n",
              "    }\n",
              "\n",
              "    .dataframe thead th {\n",
              "        text-align: right;\n",
              "    }\n",
              "</style>\n",
              "<table border=\"1\" class=\"dataframe\">\n",
              "  <thead>\n",
              "    <tr style=\"text-align: right;\">\n",
              "      <th>Application Source</th>\n",
              "      <th>Advertisement</th>\n",
              "      <th>Agency</th>\n",
              "      <th>Campus Event</th>\n",
              "      <th>Campus Job Board</th>\n",
              "      <th>Career Fair</th>\n",
              "      <th>Internal Referral</th>\n",
              "      <th>Outsourced</th>\n",
              "      <th>Website</th>\n",
              "    </tr>\n",
              "    <tr>\n",
              "      <th>Date of Application</th>\n",
              "      <th></th>\n",
              "      <th></th>\n",
              "      <th></th>\n",
              "      <th></th>\n",
              "      <th></th>\n",
              "      <th></th>\n",
              "      <th></th>\n",
              "      <th></th>\n",
              "    </tr>\n",
              "  </thead>\n",
              "  <tbody>\n",
              "    <tr>\n",
              "      <th>2016</th>\n",
              "      <td>169</td>\n",
              "      <td>66</td>\n",
              "      <td>122</td>\n",
              "      <td>549</td>\n",
              "      <td>343</td>\n",
              "      <td>7</td>\n",
              "      <td>47</td>\n",
              "      <td>203</td>\n",
              "    </tr>\n",
              "    <tr>\n",
              "      <th>2017</th>\n",
              "      <td>251</td>\n",
              "      <td>100</td>\n",
              "      <td>125</td>\n",
              "      <td>641</td>\n",
              "      <td>301</td>\n",
              "      <td>21</td>\n",
              "      <td>35</td>\n",
              "      <td>203</td>\n",
              "    </tr>\n",
              "    <tr>\n",
              "      <th>2018</th>\n",
              "      <td>186</td>\n",
              "      <td>102</td>\n",
              "      <td>375</td>\n",
              "      <td>915</td>\n",
              "      <td>567</td>\n",
              "      <td>16</td>\n",
              "      <td>42</td>\n",
              "      <td>253</td>\n",
              "    </tr>\n",
              "  </tbody>\n",
              "</table>\n",
              "</div>"
            ],
            "text/plain": [
              "Application Source   Advertisement  Agency  Campus Event  Campus Job Board  \\\n",
              "Date of Application                                                          \n",
              "2016                           169      66           122               549   \n",
              "2017                           251     100           125               641   \n",
              "2018                           186     102           375               915   \n",
              "\n",
              "Application Source   Career Fair  Internal Referral  Outsourced  Website  \n",
              "Date of Application                                                       \n",
              "2016                         343                  7          47      203  \n",
              "2017                         301                 21          35      203  \n",
              "2018                         567                 16          42      253  "
            ]
          },
          "metadata": {
            "tags": []
          },
          "execution_count": 40
        }
      ]
    },
    {
      "cell_type": "code",
      "metadata": {
        "colab": {
          "base_uri": "https://localhost:8080/"
        },
        "id": "4CmWuFV0GHwP",
        "outputId": "b5de5f92-ee1d-44de-9abd-9e13ca231d61"
      },
      "source": [
        "rate_Campus_Event=[\n",
        "np.round(pvtable_date_source_inhouse['Campus Event'][2016]/pvtable_date_source_newapp['Campus Event'][2016]*100,2),\n",
        "np.round(pvtable_date_source_inhouse['Campus Event'][2017]/pvtable_date_source_newapp['Campus Event'][2017]*100,2),\n",
        "np.round(pvtable_date_source_inhouse['Campus Event'][2018]/pvtable_date_source_newapp['Campus Event'][2018]*100,2)]\n",
        "\n",
        "rate_Campus_Event"
      ],
      "execution_count": null,
      "outputs": [
        {
          "output_type": "execute_result",
          "data": {
            "text/plain": [
              "[45.9, 41.6, 19.73]"
            ]
          },
          "metadata": {
            "tags": []
          },
          "execution_count": 41
        }
      ]
    },
    {
      "cell_type": "code",
      "metadata": {
        "colab": {
          "base_uri": "https://localhost:8080/"
        },
        "id": "IljV87_QJ0Nb",
        "outputId": "6f59adf7-28de-415c-fb61-6f3e258390f0"
      },
      "source": [
        "rate_Career_Fair=[\n",
        "np.round(pvtable_date_source_inhouse['Career Fair'][2016]/pvtable_date_source_newapp['Career Fair'][2016]*100,2),\n",
        "np.round(pvtable_date_source_inhouse['Career Fair'][2017]/pvtable_date_source_newapp['Career Fair'][2017]*100,2),\n",
        "np.round(pvtable_date_source_inhouse['Career Fair'][2018]/pvtable_date_source_newapp['Career Fair'][2018]*100,2)]\n",
        "\n",
        "rate_Career_Fair"
      ],
      "execution_count": null,
      "outputs": [
        {
          "output_type": "execute_result",
          "data": {
            "text/plain": [
              "[12.24, 13.95, 11.46]"
            ]
          },
          "metadata": {
            "tags": []
          },
          "execution_count": 42
        }
      ]
    },
    {
      "cell_type": "code",
      "metadata": {
        "colab": {
          "base_uri": "https://localhost:8080/",
          "height": 144
        },
        "id": "ygjEO4ZXFn3o",
        "outputId": "68a624e3-3d83-4fad-8068-a5345d10f2c3"
      },
      "source": [
        "rate_Campus_Career_year=pd.DataFrame({'rate_Campus_Event':rate_Campus_Event,'rate_Career_Fair':rate_Career_Fair,'year':[2016,2017,2018]})\n",
        "rate_Campus_Career_year"
      ],
      "execution_count": null,
      "outputs": [
        {
          "output_type": "execute_result",
          "data": {
            "text/html": [
              "<div>\n",
              "<style scoped>\n",
              "    .dataframe tbody tr th:only-of-type {\n",
              "        vertical-align: middle;\n",
              "    }\n",
              "\n",
              "    .dataframe tbody tr th {\n",
              "        vertical-align: top;\n",
              "    }\n",
              "\n",
              "    .dataframe thead th {\n",
              "        text-align: right;\n",
              "    }\n",
              "</style>\n",
              "<table border=\"1\" class=\"dataframe\">\n",
              "  <thead>\n",
              "    <tr style=\"text-align: right;\">\n",
              "      <th></th>\n",
              "      <th>rate_Campus_Event</th>\n",
              "      <th>rate_Career_Fair</th>\n",
              "      <th>year</th>\n",
              "    </tr>\n",
              "  </thead>\n",
              "  <tbody>\n",
              "    <tr>\n",
              "      <th>0</th>\n",
              "      <td>45.90</td>\n",
              "      <td>12.24</td>\n",
              "      <td>2016</td>\n",
              "    </tr>\n",
              "    <tr>\n",
              "      <th>1</th>\n",
              "      <td>41.60</td>\n",
              "      <td>13.95</td>\n",
              "      <td>2017</td>\n",
              "    </tr>\n",
              "    <tr>\n",
              "      <th>2</th>\n",
              "      <td>19.73</td>\n",
              "      <td>11.46</td>\n",
              "      <td>2018</td>\n",
              "    </tr>\n",
              "  </tbody>\n",
              "</table>\n",
              "</div>"
            ],
            "text/plain": [
              "   rate_Campus_Event  rate_Career_Fair  year\n",
              "0              45.90             12.24  2016\n",
              "1              41.60             13.95  2017\n",
              "2              19.73             11.46  2018"
            ]
          },
          "metadata": {
            "tags": []
          },
          "execution_count": 43
        }
      ]
    },
    {
      "cell_type": "code",
      "metadata": {
        "colab": {
          "base_uri": "https://localhost:8080/",
          "height": 350
        },
        "id": "CVQusk93KejE",
        "outputId": "930f844a-57be-47f7-ebe9-edb9964e920c"
      },
      "source": [
        "plt.figure(figsize=(15,5))\n",
        "plt.subplot(121)\n",
        "sns.barplot(x=\"year\", y=\"rate_Campus_Event\", data=rate_Campus_Career_year)\n",
        "plt.title(\"Campus_Event rate to reach in-house each year\")\n",
        "\n",
        "plt.subplot(122)\n",
        "sns.barplot(x=\"year\", y=\"rate_Career_Fair\", data=rate_Campus_Career_year)\n",
        "plt.title(\"Career_Fair rate to reach in-house each year\")\n",
        "\n",
        "plt.show()"
      ],
      "execution_count": null,
      "outputs": [
        {
          "output_type": "display_data",
          "data": {
            "image/png": "[encoded data removed]",
            "text/plain": [
              "<Figure size 1080x360 with 2 Axes>"
            ]
          },
          "metadata": {
            "tags": [],
            "needs_background": "light"
          }
        }
      ]
    },
    {
      "cell_type": "code",
      "metadata": {
        "id": "yJUy_mBKKemC"
      },
      "source": [
        ""
      ],
      "execution_count": null,
      "outputs": []
    },
    {
      "cell_type": "code",
      "metadata": {
        "id": "1ikIPNmAyMS2"
      },
      "source": [
        "# # For candidate who applied from career fare and reached inhouse or beyond\n",
        "# candidate_Career_Fair_inhouse=candidate_inHou_beyond.loc[candidate_inHou_beyond['Application Source']=='Career Fair'].reset_index(drop=True)\n",
        "# display(candidate_Career_Fair_inhouse.shape)\n",
        "# print(\"Total number of candidate who  applied from the Application Sources of Career Fair and reached inhouse interview or beyond are: \",\n",
        "#       candidate_Career_Fair_inhouse.shape[0])\n",
        "\n",
        "\n",
        "# # For candidate who applied from Campus Event and reached inhouse or beyond\n",
        "# candidate_Campus_Event_inhouse=candidate_inHou_beyond.loc[candidate_inHou_beyond['Application Source']=='Campus Event'].reset_index(drop=True)\n",
        "# display(candidate_Campus_Event_inhouse.shape)\n",
        "# print(\"Total number of candidate who applied from the Application Sources of Campus Event and reached inhouse interview or beyond are: \",\n",
        "#       candidate_Campus_Event_inhouse.shape[0])\n",
        "\n"
      ],
      "execution_count": null,
      "outputs": []
    },
    {
      "cell_type": "code",
      "metadata": {
        "id": "agiLlY45yaV9"
      },
      "source": [
        "# candidate_Career_Fair_inhouse_rate=np.round(candidate_Career_Fair_inhouse.shape[0]/dataset.shape[0]*100,2)\n",
        "# display(candidate_Career_Fair_inhouse_rate)\n",
        "\n",
        "# candidate_Campus_Event_inhouse_inhouse_rate=np.round(candidate_Campus_Event_inhouse.shape[0]/dataset.shape[0]*100,2)\n",
        "# display(candidate_Campus_Event_inhouse_inhouse_rate)\n",
        "\n",
        "\n",
        "# carrer_campus_inhouse_rate=pd.DataFrame(list(zip( ['Campus_Event','Carrer_fare'],[candidate_Campus_Event_inhouse_inhouse_rate,candidate_Career_Fair_inhouse_rate])),\n",
        "#                columns =['types', 'rate'])\n",
        "\n",
        "# display(carrer_campus_inhouse_rate)\n",
        "\n",
        "# sns.barplot(x=\"types\", y=\"rate\", data=carrer_campus_inhouse_rate)"
      ],
      "execution_count": null,
      "outputs": []
    },
    {
      "cell_type": "code",
      "metadata": {
        "id": "WAKcKiQS0804"
      },
      "source": [
        ""
      ],
      "execution_count": null,
      "outputs": []
    },
    {
      "cell_type": "code",
      "metadata": {
        "id": "n14D-3Wc4DAo"
      },
      "source": [
        ""
      ],
      "execution_count": null,
      "outputs": []
    },
    {
      "cell_type": "code",
      "metadata": {
        "id": "eeE2kpTl7W-t"
      },
      "source": [
        ""
      ],
      "execution_count": null,
      "outputs": []
    },
    {
      "cell_type": "markdown",
      "metadata": {
        "id": "UEYywCeX1AGY"
      },
      "source": [
        "Treat these candidates as a single group, and test for differences year-over-year (i.e., test for the calculated binary variable \"Reached In-House Interview\" for candidates sourced from Career Fairs or Campus Events in 2017 vs. the same population in 2018, and so on for each year combination of two years). Use pairwise chi-squared tests to determine which years had statistically significantly different in-house interview rates."
      ]
    },
    {
      "cell_type": "code",
      "metadata": {
        "colab": {
          "base_uri": "https://localhost:8080/",
          "height": 418
        },
        "id": "DcKbJBlQ6DKw",
        "outputId": "0d2766f0-720a-4198-89ce-753949f4b78a"
      },
      "source": [
        "#  candidate in Reached In-House Interview from Career Fairs or Campus Events\n",
        "candidate_Career_Fair_inhouse=candidate_inHou_beyond.loc[candidate_inHou_beyond['Application Source']=='Career Fair'].reset_index(drop=True)\n",
        "candidate_Campus_Event_inhouse=candidate_inHou_beyond.loc[candidate_inHou_beyond['Application Source']=='Campus Event'].reset_index(drop=True)\n",
        "\n",
        "candidate_Career_Campus_inhouse=pd.concat([candidate_Career_Fair_inhouse,candidate_Campus_Event_inhouse], ignore_index=True)\n",
        "display(candidate_Career_Campus_inhouse.shape)\n",
        "candidate_Career_Campus_inhouse.head()"
      ],
      "execution_count": null,
      "outputs": [
        {
          "output_type": "display_data",
          "data": {
            "text/plain": [
              "(331, 21)"
            ]
          },
          "metadata": {
            "tags": []
          }
        },
        {
          "output_type": "execute_result",
          "data": {
            "text/html": [
              "<div>\n",
              "<style scoped>\n",
              "    .dataframe tbody tr th:only-of-type {\n",
              "        vertical-align: middle;\n",
              "    }\n",
              "\n",
              "    .dataframe tbody tr th {\n",
              "        vertical-align: top;\n",
              "    }\n",
              "\n",
              "    .dataframe thead th {\n",
              "        text-align: right;\n",
              "    }\n",
              "</style>\n",
              "<table border=\"1\" class=\"dataframe\">\n",
              "  <thead>\n",
              "    <tr style=\"text-align: right;\">\n",
              "      <th></th>\n",
              "      <th>Candidate ID Number</th>\n",
              "      <th>Position Title</th>\n",
              "      <th>Department</th>\n",
              "      <th>Furthest Recruiting Stage Reached</th>\n",
              "      <th>Date of Application</th>\n",
              "      <th>Application Source</th>\n",
              "      <th>Years of Experience</th>\n",
              "      <th>Candidate Type</th>\n",
              "      <th>Education 1 Degree</th>\n",
              "      <th>School</th>\n",
              "      <th>Major</th>\n",
              "      <th>Education 2 Degree</th>\n",
              "      <th>School</th>\n",
              "      <th>Major</th>\n",
              "      <th>Education 3 Degree</th>\n",
              "      <th>School</th>\n",
              "      <th>Major</th>\n",
              "      <th>Education 4 Degree</th>\n",
              "      <th>School</th>\n",
              "      <th>Major</th>\n",
              "      <th>high_edu</th>\n",
              "    </tr>\n",
              "  </thead>\n",
              "  <tbody>\n",
              "    <tr>\n",
              "      <th>0</th>\n",
              "      <td>698642</td>\n",
              "      <td>System Engineer</td>\n",
              "      <td>Engineering</td>\n",
              "      <td>In-House Interview</td>\n",
              "      <td>2017</td>\n",
              "      <td>Career Fair</td>\n",
              "      <td>0</td>\n",
              "      <td>Campus</td>\n",
              "      <td>3</td>\n",
              "      <td>University of Texas</td>\n",
              "      <td>English</td>\n",
              "      <td>NaN</td>\n",
              "      <td>NaN</td>\n",
              "      <td>NaN</td>\n",
              "      <td>NaN</td>\n",
              "      <td>NaN</td>\n",
              "      <td>NaN</td>\n",
              "      <td>NaN</td>\n",
              "      <td>NaN</td>\n",
              "      <td>NaN</td>\n",
              "      <td>3.0</td>\n",
              "    </tr>\n",
              "    <tr>\n",
              "      <th>1</th>\n",
              "      <td>3285</td>\n",
              "      <td>System Engineer</td>\n",
              "      <td>Engineering</td>\n",
              "      <td>Offer Sent</td>\n",
              "      <td>2017</td>\n",
              "      <td>Career Fair</td>\n",
              "      <td>0</td>\n",
              "      <td>Campus</td>\n",
              "      <td>3</td>\n",
              "      <td>Columbia</td>\n",
              "      <td>Computer Science</td>\n",
              "      <td>NaN</td>\n",
              "      <td>NaN</td>\n",
              "      <td>NaN</td>\n",
              "      <td>NaN</td>\n",
              "      <td>NaN</td>\n",
              "      <td>NaN</td>\n",
              "      <td>NaN</td>\n",
              "      <td>NaN</td>\n",
              "      <td>NaN</td>\n",
              "      <td>3.0</td>\n",
              "    </tr>\n",
              "    <tr>\n",
              "      <th>2</th>\n",
              "      <td>252834</td>\n",
              "      <td>System Engineer</td>\n",
              "      <td>Engineering</td>\n",
              "      <td>In-House Interview</td>\n",
              "      <td>2016</td>\n",
              "      <td>Career Fair</td>\n",
              "      <td>0</td>\n",
              "      <td>Campus</td>\n",
              "      <td>1</td>\n",
              "      <td>Vanderbilt</td>\n",
              "      <td>Mathematics</td>\n",
              "      <td>3.0</td>\n",
              "      <td>MIT</td>\n",
              "      <td>Physics</td>\n",
              "      <td>NaN</td>\n",
              "      <td>NaN</td>\n",
              "      <td>NaN</td>\n",
              "      <td>NaN</td>\n",
              "      <td>NaN</td>\n",
              "      <td>NaN</td>\n",
              "      <td>1.0</td>\n",
              "    </tr>\n",
              "    <tr>\n",
              "      <th>3</th>\n",
              "      <td>3322409</td>\n",
              "      <td>Associate Relationship Manager</td>\n",
              "      <td>Sales</td>\n",
              "      <td>In-House Interview</td>\n",
              "      <td>2018</td>\n",
              "      <td>Career Fair</td>\n",
              "      <td>0</td>\n",
              "      <td>Campus</td>\n",
              "      <td>3</td>\n",
              "      <td>MIT</td>\n",
              "      <td>Economics</td>\n",
              "      <td>3.0</td>\n",
              "      <td>Harvard</td>\n",
              "      <td>Sociology</td>\n",
              "      <td>NaN</td>\n",
              "      <td>NaN</td>\n",
              "      <td>NaN</td>\n",
              "      <td>NaN</td>\n",
              "      <td>NaN</td>\n",
              "      <td>NaN</td>\n",
              "      <td>3.0</td>\n",
              "    </tr>\n",
              "    <tr>\n",
              "      <th>4</th>\n",
              "      <td>307436</td>\n",
              "      <td>System Engineer</td>\n",
              "      <td>Engineering</td>\n",
              "      <td>In-House Interview</td>\n",
              "      <td>2018</td>\n",
              "      <td>Career Fair</td>\n",
              "      <td>1</td>\n",
              "      <td>Campus</td>\n",
              "      <td>3</td>\n",
              "      <td>University of Michigan</td>\n",
              "      <td>Mathematics</td>\n",
              "      <td>NaN</td>\n",
              "      <td>NaN</td>\n",
              "      <td>NaN</td>\n",
              "      <td>NaN</td>\n",
              "      <td>NaN</td>\n",
              "      <td>NaN</td>\n",
              "      <td>NaN</td>\n",
              "      <td>NaN</td>\n",
              "      <td>NaN</td>\n",
              "      <td>3.0</td>\n",
              "    </tr>\n",
              "  </tbody>\n",
              "</table>\n",
              "</div>"
            ],
            "text/plain": [
              "   Candidate ID Number                  Position Title   Department  \\\n",
              "0               698642                 System Engineer  Engineering   \n",
              "1                 3285                 System Engineer  Engineering   \n",
              "2               252834                 System Engineer  Engineering   \n",
              "3              3322409  Associate Relationship Manager        Sales   \n",
              "4               307436                 System Engineer  Engineering   \n",
              "\n",
              "  Furthest Recruiting Stage Reached  Date of Application Application Source  \\\n",
              "0                In-House Interview                 2017        Career Fair   \n",
              "1                        Offer Sent                 2017        Career Fair   \n",
              "2                In-House Interview                 2016        Career Fair   \n",
              "3                In-House Interview                 2018        Career Fair   \n",
              "4                In-House Interview                 2018        Career Fair   \n",
              "\n",
              "   Years of Experience Candidate Type  Education 1 Degree  \\\n",
              "0                    0         Campus                   3   \n",
              "1                    0         Campus                   3   \n",
              "2                    0         Campus                   1   \n",
              "3                    0         Campus                   3   \n",
              "4                    1         Campus                   3   \n",
              "\n",
              "                   School             Major  Education 2 Degree   School  \\\n",
              "0     University of Texas           English                 NaN      NaN   \n",
              "1                Columbia  Computer Science                 NaN      NaN   \n",
              "2              Vanderbilt       Mathematics                 3.0      MIT   \n",
              "3                     MIT         Economics                 3.0  Harvard   \n",
              "4  University of Michigan       Mathematics                 NaN      NaN   \n",
              "\n",
              "       Major  Education 3 Degree School Major  Education 4 Degree School  \\\n",
              "0        NaN                 NaN    NaN   NaN                 NaN    NaN   \n",
              "1        NaN                 NaN    NaN   NaN                 NaN    NaN   \n",
              "2    Physics                 NaN    NaN   NaN                 NaN    NaN   \n",
              "3  Sociology                 NaN    NaN   NaN                 NaN    NaN   \n",
              "4        NaN                 NaN    NaN   NaN                 NaN    NaN   \n",
              "\n",
              "  Major  high_edu  \n",
              "0   NaN       3.0  \n",
              "1   NaN       3.0  \n",
              "2   NaN       1.0  \n",
              "3   NaN       3.0  \n",
              "4   NaN       3.0  "
            ]
          },
          "metadata": {
            "tags": []
          },
          "execution_count": 47
        }
      ]
    },
    {
      "cell_type": "code",
      "metadata": {
        "id": "HzjOlaF18f4Z"
      },
      "source": [
        ""
      ],
      "execution_count": null,
      "outputs": []
    },
    {
      "cell_type": "code",
      "metadata": {
        "id": "cBJCVj8G9kK9"
      },
      "source": [
        "# doa=candidate_Career_Campus_inhouse['Date of Application'].value_counts().reset_index()\n",
        "# doa.columns=['year','Applicants']\n",
        "# doa.sort_values(by=['year'],ascending=False,inplace=True)\n",
        "\n",
        "\n",
        "# sns.barplot(x=\"year\", y=\"Applicants\", data=doa)\n",
        "\n",
        "# doa"
      ],
      "execution_count": null,
      "outputs": []
    },
    {
      "cell_type": "code",
      "metadata": {
        "colab": {
          "base_uri": "https://localhost:8080/",
          "height": 175
        },
        "id": "Ij_g16tFlR90",
        "outputId": "3608837a-8f0f-4477-ee26-1010bf4618e0"
      },
      "source": [
        "crosstab=pd.crosstab(candidate_Career_Campus_inhouse['Date of Application'],candidate_Career_Campus_inhouse['Application Source'])\n",
        "crosstab"
      ],
      "execution_count": null,
      "outputs": [
        {
          "output_type": "execute_result",
          "data": {
            "text/html": [
              "<div>\n",
              "<style scoped>\n",
              "    .dataframe tbody tr th:only-of-type {\n",
              "        vertical-align: middle;\n",
              "    }\n",
              "\n",
              "    .dataframe tbody tr th {\n",
              "        vertical-align: top;\n",
              "    }\n",
              "\n",
              "    .dataframe thead th {\n",
              "        text-align: right;\n",
              "    }\n",
              "</style>\n",
              "<table border=\"1\" class=\"dataframe\">\n",
              "  <thead>\n",
              "    <tr style=\"text-align: right;\">\n",
              "      <th>Application Source</th>\n",
              "      <th>Campus Event</th>\n",
              "      <th>Career Fair</th>\n",
              "    </tr>\n",
              "    <tr>\n",
              "      <th>Date of Application</th>\n",
              "      <th></th>\n",
              "      <th></th>\n",
              "    </tr>\n",
              "  </thead>\n",
              "  <tbody>\n",
              "    <tr>\n",
              "      <th>2016</th>\n",
              "      <td>56</td>\n",
              "      <td>42</td>\n",
              "    </tr>\n",
              "    <tr>\n",
              "      <th>2017</th>\n",
              "      <td>52</td>\n",
              "      <td>42</td>\n",
              "    </tr>\n",
              "    <tr>\n",
              "      <th>2018</th>\n",
              "      <td>74</td>\n",
              "      <td>65</td>\n",
              "    </tr>\n",
              "  </tbody>\n",
              "</table>\n",
              "</div>"
            ],
            "text/plain": [
              "Application Source   Campus Event  Career Fair\n",
              "Date of Application                           \n",
              "2016                           56           42\n",
              "2017                           52           42\n",
              "2018                           74           65"
            ]
          },
          "metadata": {
            "tags": []
          },
          "execution_count": 49
        }
      ]
    },
    {
      "cell_type": "code",
      "metadata": {
        "colab": {
          "base_uri": "https://localhost:8080/",
          "height": 210
        },
        "id": "VhhqekH4N26_",
        "outputId": "f4785913-9882-43a7-81b7-b92e68e2e83c"
      },
      "source": [
        "pvtable_date_source_inhouse"
      ],
      "execution_count": null,
      "outputs": [
        {
          "output_type": "execute_result",
          "data": {
            "text/html": [
              "<div>\n",
              "<style scoped>\n",
              "    .dataframe tbody tr th:only-of-type {\n",
              "        vertical-align: middle;\n",
              "    }\n",
              "\n",
              "    .dataframe tbody tr th {\n",
              "        vertical-align: top;\n",
              "    }\n",
              "\n",
              "    .dataframe thead th {\n",
              "        text-align: right;\n",
              "    }\n",
              "</style>\n",
              "<table border=\"1\" class=\"dataframe\">\n",
              "  <thead>\n",
              "    <tr style=\"text-align: right;\">\n",
              "      <th>Application Source</th>\n",
              "      <th>Advertisement</th>\n",
              "      <th>Agency</th>\n",
              "      <th>Campus Event</th>\n",
              "      <th>Campus Job Board</th>\n",
              "      <th>Career Fair</th>\n",
              "      <th>Internal Referral</th>\n",
              "      <th>Outsourced</th>\n",
              "      <th>Website</th>\n",
              "    </tr>\n",
              "    <tr>\n",
              "      <th>Date of Application</th>\n",
              "      <th></th>\n",
              "      <th></th>\n",
              "      <th></th>\n",
              "      <th></th>\n",
              "      <th></th>\n",
              "      <th></th>\n",
              "      <th></th>\n",
              "      <th></th>\n",
              "    </tr>\n",
              "  </thead>\n",
              "  <tbody>\n",
              "    <tr>\n",
              "      <th>2016</th>\n",
              "      <td>22</td>\n",
              "      <td>10</td>\n",
              "      <td>56</td>\n",
              "      <td>72</td>\n",
              "      <td>42</td>\n",
              "      <td>2</td>\n",
              "      <td>11</td>\n",
              "      <td>32</td>\n",
              "    </tr>\n",
              "    <tr>\n",
              "      <th>2017</th>\n",
              "      <td>24</td>\n",
              "      <td>26</td>\n",
              "      <td>52</td>\n",
              "      <td>58</td>\n",
              "      <td>42</td>\n",
              "      <td>5</td>\n",
              "      <td>5</td>\n",
              "      <td>33</td>\n",
              "    </tr>\n",
              "    <tr>\n",
              "      <th>2018</th>\n",
              "      <td>32</td>\n",
              "      <td>36</td>\n",
              "      <td>74</td>\n",
              "      <td>113</td>\n",
              "      <td>65</td>\n",
              "      <td>8</td>\n",
              "      <td>8</td>\n",
              "      <td>55</td>\n",
              "    </tr>\n",
              "  </tbody>\n",
              "</table>\n",
              "</div>"
            ],
            "text/plain": [
              "Application Source   Advertisement  Agency  Campus Event  Campus Job Board  \\\n",
              "Date of Application                                                          \n",
              "2016                            22      10            56                72   \n",
              "2017                            24      26            52                58   \n",
              "2018                            32      36            74               113   \n",
              "\n",
              "Application Source   Career Fair  Internal Referral  Outsourced  Website  \n",
              "Date of Application                                                       \n",
              "2016                          42                  2          11       32  \n",
              "2017                          42                  5           5       33  \n",
              "2018                          65                  8           8       55  "
            ]
          },
          "metadata": {
            "tags": []
          },
          "execution_count": 50
        }
      ]
    },
    {
      "cell_type": "code",
      "metadata": {
        "colab": {
          "base_uri": "https://localhost:8080/",
          "height": 144
        },
        "id": "lRETacjqn5sR",
        "outputId": "2946a358-40a2-478e-c66f-2c5a37fdd48d"
      },
      "source": [
        "crosstab_16_17=crosstab.drop(index=2018)\n",
        "crosstab_16_17"
      ],
      "execution_count": null,
      "outputs": [
        {
          "output_type": "execute_result",
          "data": {
            "text/html": [
              "<div>\n",
              "<style scoped>\n",
              "    .dataframe tbody tr th:only-of-type {\n",
              "        vertical-align: middle;\n",
              "    }\n",
              "\n",
              "    .dataframe tbody tr th {\n",
              "        vertical-align: top;\n",
              "    }\n",
              "\n",
              "    .dataframe thead th {\n",
              "        text-align: right;\n",
              "    }\n",
              "</style>\n",
              "<table border=\"1\" class=\"dataframe\">\n",
              "  <thead>\n",
              "    <tr style=\"text-align: right;\">\n",
              "      <th>Application Source</th>\n",
              "      <th>Campus Event</th>\n",
              "      <th>Career Fair</th>\n",
              "    </tr>\n",
              "    <tr>\n",
              "      <th>Date of Application</th>\n",
              "      <th></th>\n",
              "      <th></th>\n",
              "    </tr>\n",
              "  </thead>\n",
              "  <tbody>\n",
              "    <tr>\n",
              "      <th>2016</th>\n",
              "      <td>56</td>\n",
              "      <td>42</td>\n",
              "    </tr>\n",
              "    <tr>\n",
              "      <th>2017</th>\n",
              "      <td>52</td>\n",
              "      <td>42</td>\n",
              "    </tr>\n",
              "  </tbody>\n",
              "</table>\n",
              "</div>"
            ],
            "text/plain": [
              "Application Source   Campus Event  Career Fair\n",
              "Date of Application                           \n",
              "2016                           56           42\n",
              "2017                           52           42"
            ]
          },
          "metadata": {
            "tags": []
          },
          "execution_count": 51
        }
      ]
    },
    {
      "cell_type": "code",
      "metadata": {
        "colab": {
          "base_uri": "https://localhost:8080/",
          "height": 144
        },
        "id": "zr5iHjYhqILP",
        "outputId": "8f5e6462-9dbd-483f-d36d-f27848d23955"
      },
      "source": [
        "crosstab_17_18=crosstab.drop(index=2016)\n",
        "crosstab_17_18"
      ],
      "execution_count": null,
      "outputs": [
        {
          "output_type": "execute_result",
          "data": {
            "text/html": [
              "<div>\n",
              "<style scoped>\n",
              "    .dataframe tbody tr th:only-of-type {\n",
              "        vertical-align: middle;\n",
              "    }\n",
              "\n",
              "    .dataframe tbody tr th {\n",
              "        vertical-align: top;\n",
              "    }\n",
              "\n",
              "    .dataframe thead th {\n",
              "        text-align: right;\n",
              "    }\n",
              "</style>\n",
              "<table border=\"1\" class=\"dataframe\">\n",
              "  <thead>\n",
              "    <tr style=\"text-align: right;\">\n",
              "      <th>Application Source</th>\n",
              "      <th>Campus Event</th>\n",
              "      <th>Career Fair</th>\n",
              "    </tr>\n",
              "    <tr>\n",
              "      <th>Date of Application</th>\n",
              "      <th></th>\n",
              "      <th></th>\n",
              "    </tr>\n",
              "  </thead>\n",
              "  <tbody>\n",
              "    <tr>\n",
              "      <th>2017</th>\n",
              "      <td>52</td>\n",
              "      <td>42</td>\n",
              "    </tr>\n",
              "    <tr>\n",
              "      <th>2018</th>\n",
              "      <td>74</td>\n",
              "      <td>65</td>\n",
              "    </tr>\n",
              "  </tbody>\n",
              "</table>\n",
              "</div>"
            ],
            "text/plain": [
              "Application Source   Campus Event  Career Fair\n",
              "Date of Application                           \n",
              "2017                           52           42\n",
              "2018                           74           65"
            ]
          },
          "metadata": {
            "tags": []
          },
          "execution_count": 52
        }
      ]
    },
    {
      "cell_type": "code",
      "metadata": {
        "colab": {
          "base_uri": "https://localhost:8080/"
        },
        "id": "CmeVgB-Amo-N",
        "outputId": "67f309e9-6a87-4fcf-a852-29c15542983e"
      },
      "source": [
        "chi2_contingency(crosstab)\n",
        "# chi2, p, dof, expected = chi2_contingency(crosstab)"
      ],
      "execution_count": null,
      "outputs": [
        {
          "output_type": "execute_result",
          "data": {
            "text/plain": [
              "(0.36011279039498223, 0.8352231075109704, 2, array([[53.88519637, 44.11480363],\n",
              "        [51.6858006 , 42.3141994 ],\n",
              "        [76.42900302, 62.57099698]]))"
            ]
          },
          "metadata": {
            "tags": []
          },
          "execution_count": 53
        }
      ]
    },
    {
      "cell_type": "code",
      "metadata": {
        "colab": {
          "base_uri": "https://localhost:8080/"
        },
        "id": "12M3TcBfnYB_",
        "outputId": "efb0e424-f68f-4dda-80b8-d0e6af1a00ee"
      },
      "source": [
        "chi2_contingency(crosstab_16_17)\n"
      ],
      "execution_count": null,
      "outputs": [
        {
          "output_type": "execute_result",
          "data": {
            "text/plain": [
              "(0.011909931145710564, 0.9130972936665109, 1, array([[55.125, 42.875],\n",
              "        [52.875, 41.125]]))"
            ]
          },
          "metadata": {
            "tags": []
          },
          "execution_count": 54
        }
      ]
    },
    {
      "cell_type": "code",
      "metadata": {
        "colab": {
          "base_uri": "https://localhost:8080/"
        },
        "id": "sifa0E5TmpAn",
        "outputId": "35412667-8e85-475e-b6eb-bb347e42c780"
      },
      "source": [
        "chi2_contingency(crosstab_17_18)\n"
      ],
      "execution_count": null,
      "outputs": [
        {
          "output_type": "execute_result",
          "data": {
            "text/plain": [
              "(0.031983039253907664,\n",
              " 0.8580648867887225,\n",
              " 1,\n",
              " array([[50.83261803, 43.16738197],\n",
              "        [75.16738197, 63.83261803]]))"
            ]
          },
          "metadata": {
            "tags": []
          },
          "execution_count": 55
        }
      ]
    },
    {
      "cell_type": "code",
      "metadata": {
        "id": "fVYzZHGRKdHZ"
      },
      "source": [
        ""
      ],
      "execution_count": null,
      "outputs": []
    },
    {
      "cell_type": "code",
      "metadata": {
        "id": "s18dBI0-KdRb"
      },
      "source": [
        ""
      ],
      "execution_count": null,
      "outputs": []
    },
    {
      "cell_type": "markdown",
      "metadata": {
        "id": "Tb5zcA8DKdh0"
      },
      "source": [
        "## 3) Create a single data visualization to show which Application Sources are the most/least effective (you may interpret \"effectiveness\" in any way you choose). "
      ]
    },
    {
      "cell_type": "code",
      "metadata": {
        "colab": {
          "base_uri": "https://localhost:8080/"
        },
        "id": "FAuVbYj7Kekg",
        "outputId": "c44bab00-5a33-4d91-dd3c-e9d95bff7ace"
      },
      "source": [
        "dataset['Application Source'].value_counts()"
      ],
      "execution_count": null,
      "outputs": [
        {
          "output_type": "execute_result",
          "data": {
            "text/plain": [
              "Campus Job Board     2616\n",
              "Career Fair          1550\n",
              "Campus Event          939\n",
              "Website               906\n",
              "Advertisement         765\n",
              "Agency                396\n",
              "Outsourced            162\n",
              "Internal Referral      74\n",
              "Name: Application Source, dtype: int64"
            ]
          },
          "metadata": {
            "tags": []
          },
          "execution_count": 56
        }
      ]
    },
    {
      "cell_type": "code",
      "metadata": {
        "colab": {
          "base_uri": "https://localhost:8080/",
          "height": 535
        },
        "id": "EFglnIfBMhRw",
        "outputId": "939e7ea2-bd5b-450a-dd0d-6d54bef79dd8"
      },
      "source": [
        "plt.figure(figsize=(15,5))\n",
        "sns.countplot(\"Application Source\", data=dataset)\n",
        "plt.title(\"Candidate vs Application Source\")\n",
        "plt.xticks(rotation=90, size=15)\n",
        "plt.ylabel(\"no of Candidate\")\n",
        "plt.show()"
      ],
      "execution_count": null,
      "outputs": [
        {
          "output_type": "stream",
          "text": [
            "/usr/local/lib/python3.7/dist-packages/seaborn/_decorators.py:43: FutureWarning: Pass the following variable as a keyword arg: x. From version 0.12, the only valid positional argument will be `data`, and passing other arguments without an explicit keyword will result in an error or misinterpretation.\n",
            "  FutureWarning\n"
          ],
          "name": "stderr"
        },
        {
          "output_type": "display_data",
          "data": {
            "image/png": "[encoded data removed]",
            "text/plain": [
              "<Figure size 1080x360 with 1 Axes>"
            ]
          },
          "metadata": {
            "tags": [],
            "needs_background": "light"
          }
        }
      ]
    },
    {
      "cell_type": "code",
      "metadata": {
        "id": "6pOIYNHsaCxs"
      },
      "source": [
        ""
      ],
      "execution_count": null,
      "outputs": []
    },
    {
      "cell_type": "code",
      "metadata": {
        "colab": {
          "base_uri": "https://localhost:8080/"
        },
        "id": "wL6kT-1JZ5eQ",
        "outputId": "36d9d300-b56e-42cf-f927-781135d1d0b4"
      },
      "source": [
        "dataset['Application Source'].value_counts().index"
      ],
      "execution_count": null,
      "outputs": [
        {
          "output_type": "execute_result",
          "data": {
            "text/plain": [
              "Index(['Campus Job Board', 'Career Fair', 'Campus Event', 'Website',\n",
              "       'Advertisement', 'Agency', 'Outsourced', 'Internal Referral'],\n",
              "      dtype='object')"
            ]
          },
          "metadata": {
            "tags": []
          },
          "execution_count": 58
        }
      ]
    },
    {
      "cell_type": "markdown",
      "metadata": {
        "id": "oUTo7urWvI95"
      },
      "source": [
        "### Lets view which \"application source\" has most \"offer sent\""
      ]
    },
    {
      "cell_type": "code",
      "metadata": {
        "colab": {
          "base_uri": "https://localhost:8080/"
        },
        "id": "JwzGrq7itziF",
        "outputId": "0fc83061-2118-4681-adec-c469bec677d0"
      },
      "source": [
        "source_cand_offer=[]\n",
        "for i in dataset['Application Source'].value_counts().index:\n",
        "  v=dataset[(dataset['Furthest Recruiting Stage Reached']=='Offer Sent')&(dataset['Application Source']==i)].shape[0]\n",
        "  source_cand_offer.append(v)\n",
        "source_cand_offer\n"
      ],
      "execution_count": null,
      "outputs": [
        {
          "output_type": "execute_result",
          "data": {
            "text/plain": [
              "[24, 22, 37, 16, 10, 20, 4, 1]"
            ]
          },
          "metadata": {
            "tags": []
          },
          "execution_count": 59
        }
      ]
    },
    {
      "cell_type": "code",
      "metadata": {
        "colab": {
          "base_uri": "https://localhost:8080/",
          "height": 300
        },
        "id": "VOYMXkc-uzlU",
        "outputId": "55839886-6a96-4772-db10-c1c81851bbf3"
      },
      "source": [
        "source_total_offer=dataset['Application Source'].value_counts().reset_index()\n",
        "source_total_offer.columns=['Application Source','Total_Candidate']\n",
        "source_total_offer['Total_offer_Candidate']=source_cand_offer\n",
        "source_total_offer"
      ],
      "execution_count": null,
      "outputs": [
        {
          "output_type": "execute_result",
          "data": {
            "text/html": [
              "<div>\n",
              "<style scoped>\n",
              "    .dataframe tbody tr th:only-of-type {\n",
              "        vertical-align: middle;\n",
              "    }\n",
              "\n",
              "    .dataframe tbody tr th {\n",
              "        vertical-align: top;\n",
              "    }\n",
              "\n",
              "    .dataframe thead th {\n",
              "        text-align: right;\n",
              "    }\n",
              "</style>\n",
              "<table border=\"1\" class=\"dataframe\">\n",
              "  <thead>\n",
              "    <tr style=\"text-align: right;\">\n",
              "      <th></th>\n",
              "      <th>Application Source</th>\n",
              "      <th>Total_Candidate</th>\n",
              "      <th>Total_offer_Candidate</th>\n",
              "    </tr>\n",
              "  </thead>\n",
              "  <tbody>\n",
              "    <tr>\n",
              "      <th>0</th>\n",
              "      <td>Campus Job Board</td>\n",
              "      <td>2616</td>\n",
              "      <td>24</td>\n",
              "    </tr>\n",
              "    <tr>\n",
              "      <th>1</th>\n",
              "      <td>Career Fair</td>\n",
              "      <td>1550</td>\n",
              "      <td>22</td>\n",
              "    </tr>\n",
              "    <tr>\n",
              "      <th>2</th>\n",
              "      <td>Campus Event</td>\n",
              "      <td>939</td>\n",
              "      <td>37</td>\n",
              "    </tr>\n",
              "    <tr>\n",
              "      <th>3</th>\n",
              "      <td>Website</td>\n",
              "      <td>906</td>\n",
              "      <td>16</td>\n",
              "    </tr>\n",
              "    <tr>\n",
              "      <th>4</th>\n",
              "      <td>Advertisement</td>\n",
              "      <td>765</td>\n",
              "      <td>10</td>\n",
              "    </tr>\n",
              "    <tr>\n",
              "      <th>5</th>\n",
              "      <td>Agency</td>\n",
              "      <td>396</td>\n",
              "      <td>20</td>\n",
              "    </tr>\n",
              "    <tr>\n",
              "      <th>6</th>\n",
              "      <td>Outsourced</td>\n",
              "      <td>162</td>\n",
              "      <td>4</td>\n",
              "    </tr>\n",
              "    <tr>\n",
              "      <th>7</th>\n",
              "      <td>Internal Referral</td>\n",
              "      <td>74</td>\n",
              "      <td>1</td>\n",
              "    </tr>\n",
              "  </tbody>\n",
              "</table>\n",
              "</div>"
            ],
            "text/plain": [
              "  Application Source  Total_Candidate  Total_offer_Candidate\n",
              "0   Campus Job Board             2616                     24\n",
              "1        Career Fair             1550                     22\n",
              "2       Campus Event              939                     37\n",
              "3            Website              906                     16\n",
              "4      Advertisement              765                     10\n",
              "5             Agency              396                     20\n",
              "6         Outsourced              162                      4\n",
              "7  Internal Referral               74                      1"
            ]
          },
          "metadata": {
            "tags": []
          },
          "execution_count": 60
        }
      ]
    },
    {
      "cell_type": "code",
      "metadata": {
        "colab": {
          "base_uri": "https://localhost:8080/",
          "height": 462
        },
        "id": "B836N-wAvpbo",
        "outputId": "7cad0776-4076-4f66-e635-1ab15149c2d7"
      },
      "source": [
        "plt.figure(figsize=(15,5))\n",
        "plt.subplot(121)\n",
        "sns.barplot(x=\"Application Source\", y=\"Total_Candidate\", data=source_total_offer)\n",
        "plt.xticks(rotation=90, size=15)\n",
        "\n",
        "plt.subplot(122)\n",
        "sns.barplot(x=\"Application Source\", y=\"Total_offer_Candidate\", data=source_total_offer)\n",
        "plt.xticks(rotation=90, size=15)\n",
        "\n",
        "plt.show()\n"
      ],
      "execution_count": null,
      "outputs": [
        {
          "output_type": "display_data",
          "data": {
            "image/png": "[encoded data removed]",
            "text/plain": [
              "<Figure size 1080x360 with 2 Axes>"
            ]
          },
          "metadata": {
            "tags": [],
            "needs_background": "light"
          }
        }
      ]
    },
    {
      "cell_type": "code",
      "metadata": {
        "id": "bEKeCWYEvqP-",
        "colab": {
          "base_uri": "https://localhost:8080/"
        },
        "outputId": "fc9b0dcb-64ff-4a26-9a50-ad85bc62b48e"
      },
      "source": [
        "source_cand_offer_rate=[]\n",
        "for i in np.arange(8):\n",
        "  rate=np.round(source_total_offer['Total_offer_Candidate'][i]/source_total_offer['Total_Candidate'][i]*100,2)\n",
        "  source_cand_offer_rate.append(rate)\n",
        "source_cand_offer_rate"
      ],
      "execution_count": null,
      "outputs": [
        {
          "output_type": "execute_result",
          "data": {
            "text/plain": [
              "[0.92, 1.42, 3.94, 1.77, 1.31, 5.05, 2.47, 1.35]"
            ]
          },
          "metadata": {
            "tags": []
          },
          "execution_count": 62
        }
      ]
    },
    {
      "cell_type": "code",
      "metadata": {
        "colab": {
          "base_uri": "https://localhost:8080/",
          "height": 300
        },
        "id": "jbQfzJGKqTZO",
        "outputId": "8c2ba3f5-7fe3-43da-d192-52f9aa3fea19"
      },
      "source": [
        "source_total_offer['Offer_Candidate_rate']=source_cand_offer_rate\n",
        "source_total_offer.sort_values(by='Offer_Candidate_rate',inplace=True)\n",
        "source_total_offer"
      ],
      "execution_count": null,
      "outputs": [
        {
          "output_type": "execute_result",
          "data": {
            "text/html": [
              "<div>\n",
              "<style scoped>\n",
              "    .dataframe tbody tr th:only-of-type {\n",
              "        vertical-align: middle;\n",
              "    }\n",
              "\n",
              "    .dataframe tbody tr th {\n",
              "        vertical-align: top;\n",
              "    }\n",
              "\n",
              "    .dataframe thead th {\n",
              "        text-align: right;\n",
              "    }\n",
              "</style>\n",
              "<table border=\"1\" class=\"dataframe\">\n",
              "  <thead>\n",
              "    <tr style=\"text-align: right;\">\n",
              "      <th></th>\n",
              "      <th>Application Source</th>\n",
              "      <th>Total_Candidate</th>\n",
              "      <th>Total_offer_Candidate</th>\n",
              "      <th>Offer_Candidate_rate</th>\n",
              "    </tr>\n",
              "  </thead>\n",
              "  <tbody>\n",
              "    <tr>\n",
              "      <th>0</th>\n",
              "      <td>Campus Job Board</td>\n",
              "      <td>2616</td>\n",
              "      <td>24</td>\n",
              "      <td>0.92</td>\n",
              "    </tr>\n",
              "    <tr>\n",
              "      <th>4</th>\n",
              "      <td>Advertisement</td>\n",
              "      <td>765</td>\n",
              "      <td>10</td>\n",
              "      <td>1.31</td>\n",
              "    </tr>\n",
              "    <tr>\n",
              "      <th>7</th>\n",
              "      <td>Internal Referral</td>\n",
              "      <td>74</td>\n",
              "      <td>1</td>\n",
              "      <td>1.35</td>\n",
              "    </tr>\n",
              "    <tr>\n",
              "      <th>1</th>\n",
              "      <td>Career Fair</td>\n",
              "      <td>1550</td>\n",
              "      <td>22</td>\n",
              "      <td>1.42</td>\n",
              "    </tr>\n",
              "    <tr>\n",
              "      <th>3</th>\n",
              "      <td>Website</td>\n",
              "      <td>906</td>\n",
              "      <td>16</td>\n",
              "      <td>1.77</td>\n",
              "    </tr>\n",
              "    <tr>\n",
              "      <th>6</th>\n",
              "      <td>Outsourced</td>\n",
              "      <td>162</td>\n",
              "      <td>4</td>\n",
              "      <td>2.47</td>\n",
              "    </tr>\n",
              "    <tr>\n",
              "      <th>2</th>\n",
              "      <td>Campus Event</td>\n",
              "      <td>939</td>\n",
              "      <td>37</td>\n",
              "      <td>3.94</td>\n",
              "    </tr>\n",
              "    <tr>\n",
              "      <th>5</th>\n",
              "      <td>Agency</td>\n",
              "      <td>396</td>\n",
              "      <td>20</td>\n",
              "      <td>5.05</td>\n",
              "    </tr>\n",
              "  </tbody>\n",
              "</table>\n",
              "</div>"
            ],
            "text/plain": [
              "  Application Source  Total_Candidate  Total_offer_Candidate  \\\n",
              "0   Campus Job Board             2616                     24   \n",
              "4      Advertisement              765                     10   \n",
              "7  Internal Referral               74                      1   \n",
              "1        Career Fair             1550                     22   \n",
              "3            Website              906                     16   \n",
              "6         Outsourced              162                      4   \n",
              "2       Campus Event              939                     37   \n",
              "5             Agency              396                     20   \n",
              "\n",
              "   Offer_Candidate_rate  \n",
              "0                  0.92  \n",
              "4                  1.31  \n",
              "7                  1.35  \n",
              "1                  1.42  \n",
              "3                  1.77  \n",
              "6                  2.47  \n",
              "2                  3.94  \n",
              "5                  5.05  "
            ]
          },
          "metadata": {
            "tags": []
          },
          "execution_count": 63
        }
      ]
    },
    {
      "cell_type": "code",
      "metadata": {
        "colab": {
          "base_uri": "https://localhost:8080/",
          "height": 466
        },
        "id": "zCnSAf7Z70Ba",
        "outputId": "35bda1e7-e70a-465a-cdaa-02b1d2f8d07a"
      },
      "source": [
        "plt.figure(figsize=(15,8))\n",
        "source_total_offer['Offer_Candidate_rate'].plot.pie(labels=source_total_offer['Application Source'],\n",
        "        startangle=90,\n",
        "        autopct='%1.2f%%',\n",
        "        fontsize=12)\n",
        "# plt.legend(loc='center right')\n",
        "plt.show()"
      ],
      "execution_count": null,
      "outputs": [
        {
          "output_type": "display_data",
          "data": {
            "image/png": "[encoded data removed]",
            "text/plain": [
              "<Figure size 1080x576 with 1 Axes>"
            ]
          },
          "metadata": {
            "tags": []
          }
        }
      ]
    },
    {
      "cell_type": "code",
      "metadata": {
        "id": "ov4-v81-qig0"
      },
      "source": [
        ""
      ],
      "execution_count": null,
      "outputs": []
    },
    {
      "cell_type": "markdown",
      "metadata": {
        "id": "fUHlpzZztxtZ"
      },
      "source": [
        "### Lets view From which \"application source\" there are more number of candidate in each \"Department\" to reach In-house or beyond"
      ]
    },
    {
      "cell_type": "code",
      "metadata": {
        "colab": {
          "base_uri": "https://localhost:8080/",
          "height": 188
        },
        "id": "XfbqsEDft7NH",
        "outputId": "0ed14cd7-4a26-434d-bc94-7ab964c741fe"
      },
      "source": [
        "dataset.head(1)"
      ],
      "execution_count": null,
      "outputs": [
        {
          "output_type": "execute_result",
          "data": {
            "text/html": [
              "<div>\n",
              "<style scoped>\n",
              "    .dataframe tbody tr th:only-of-type {\n",
              "        vertical-align: middle;\n",
              "    }\n",
              "\n",
              "    .dataframe tbody tr th {\n",
              "        vertical-align: top;\n",
              "    }\n",
              "\n",
              "    .dataframe thead th {\n",
              "        text-align: right;\n",
              "    }\n",
              "</style>\n",
              "<table border=\"1\" class=\"dataframe\">\n",
              "  <thead>\n",
              "    <tr style=\"text-align: right;\">\n",
              "      <th></th>\n",
              "      <th>Candidate ID Number</th>\n",
              "      <th>Position Title</th>\n",
              "      <th>Department</th>\n",
              "      <th>Furthest Recruiting Stage Reached</th>\n",
              "      <th>Date of Application</th>\n",
              "      <th>Application Source</th>\n",
              "      <th>Years of Experience</th>\n",
              "      <th>Candidate Type</th>\n",
              "      <th>Education 1 Degree</th>\n",
              "      <th>School</th>\n",
              "      <th>Major</th>\n",
              "      <th>Education 2 Degree</th>\n",
              "      <th>School</th>\n",
              "      <th>Major</th>\n",
              "      <th>Education 3 Degree</th>\n",
              "      <th>School</th>\n",
              "      <th>Major</th>\n",
              "      <th>Education 4 Degree</th>\n",
              "      <th>School</th>\n",
              "      <th>Major</th>\n",
              "      <th>high_edu</th>\n",
              "    </tr>\n",
              "  </thead>\n",
              "  <tbody>\n",
              "    <tr>\n",
              "      <th>0</th>\n",
              "      <td>3668741</td>\n",
              "      <td>Associate Product Manager</td>\n",
              "      <td>Product</td>\n",
              "      <td>New Application</td>\n",
              "      <td>2016</td>\n",
              "      <td>Campus Event</td>\n",
              "      <td>0</td>\n",
              "      <td>Campus</td>\n",
              "      <td>3</td>\n",
              "      <td>NYU</td>\n",
              "      <td>Computer Science</td>\n",
              "      <td>3.0</td>\n",
              "      <td>UC Berkeley</td>\n",
              "      <td>Physics</td>\n",
              "      <td>NaN</td>\n",
              "      <td>NaN</td>\n",
              "      <td>NaN</td>\n",
              "      <td>NaN</td>\n",
              "      <td>NaN</td>\n",
              "      <td>NaN</td>\n",
              "      <td>3.0</td>\n",
              "    </tr>\n",
              "  </tbody>\n",
              "</table>\n",
              "</div>"
            ],
            "text/plain": [
              "   Candidate ID Number             Position Title Department  \\\n",
              "0              3668741  Associate Product Manager    Product   \n",
              "\n",
              "  Furthest Recruiting Stage Reached  Date of Application Application Source  \\\n",
              "0                   New Application                 2016       Campus Event   \n",
              "\n",
              "   Years of Experience Candidate Type  Education 1 Degree School  \\\n",
              "0                    0         Campus                   3    NYU   \n",
              "\n",
              "              Major  Education 2 Degree       School    Major  \\\n",
              "0  Computer Science                 3.0  UC Berkeley  Physics   \n",
              "\n",
              "   Education 3 Degree School Major  Education 4 Degree School Major  high_edu  \n",
              "0                 NaN    NaN   NaN                 NaN    NaN   NaN       3.0  "
            ]
          },
          "metadata": {
            "tags": []
          },
          "execution_count": 65
        }
      ]
    },
    {
      "cell_type": "code",
      "metadata": {
        "colab": {
          "base_uri": "https://localhost:8080/",
          "height": 338
        },
        "id": "u5AIQYtv2-uJ",
        "outputId": "8512aa9e-52d8-4bc2-a564-835afbe8efb1"
      },
      "source": [
        "dataset2=dataset.drop(dataset[dataset['Furthest Recruiting Stage Reached'] == 'New Application' ].index)\n",
        "dataset2=dataset2.drop(dataset2[dataset2['Furthest Recruiting Stage Reached'] == 'Phone Screen' ].index)\n",
        "display(dataset2.shape)\n",
        "dataset2.head(3)"
      ],
      "execution_count": null,
      "outputs": [
        {
          "output_type": "display_data",
          "data": {
            "text/plain": [
              "(883, 21)"
            ]
          },
          "metadata": {
            "tags": []
          }
        },
        {
          "output_type": "execute_result",
          "data": {
            "text/html": [
              "<div>\n",
              "<style scoped>\n",
              "    .dataframe tbody tr th:only-of-type {\n",
              "        vertical-align: middle;\n",
              "    }\n",
              "\n",
              "    .dataframe tbody tr th {\n",
              "        vertical-align: top;\n",
              "    }\n",
              "\n",
              "    .dataframe thead th {\n",
              "        text-align: right;\n",
              "    }\n",
              "</style>\n",
              "<table border=\"1\" class=\"dataframe\">\n",
              "  <thead>\n",
              "    <tr style=\"text-align: right;\">\n",
              "      <th></th>\n",
              "      <th>Candidate ID Number</th>\n",
              "      <th>Position Title</th>\n",
              "      <th>Department</th>\n",
              "      <th>Furthest Recruiting Stage Reached</th>\n",
              "      <th>Date of Application</th>\n",
              "      <th>Application Source</th>\n",
              "      <th>Years of Experience</th>\n",
              "      <th>Candidate Type</th>\n",
              "      <th>Education 1 Degree</th>\n",
              "      <th>School</th>\n",
              "      <th>Major</th>\n",
              "      <th>Education 2 Degree</th>\n",
              "      <th>School</th>\n",
              "      <th>Major</th>\n",
              "      <th>Education 3 Degree</th>\n",
              "      <th>School</th>\n",
              "      <th>Major</th>\n",
              "      <th>Education 4 Degree</th>\n",
              "      <th>School</th>\n",
              "      <th>Major</th>\n",
              "      <th>high_edu</th>\n",
              "    </tr>\n",
              "  </thead>\n",
              "  <tbody>\n",
              "    <tr>\n",
              "      <th>21</th>\n",
              "      <td>3722351</td>\n",
              "      <td>Associate Relationship Manager</td>\n",
              "      <td>Sales</td>\n",
              "      <td>In-House Interview</td>\n",
              "      <td>2018</td>\n",
              "      <td>Campus Job Board</td>\n",
              "      <td>1</td>\n",
              "      <td>Campus</td>\n",
              "      <td>3</td>\n",
              "      <td>Columbia</td>\n",
              "      <td>Management</td>\n",
              "      <td>3.0</td>\n",
              "      <td>MIT</td>\n",
              "      <td>Economics</td>\n",
              "      <td>NaN</td>\n",
              "      <td>NaN</td>\n",
              "      <td>NaN</td>\n",
              "      <td>NaN</td>\n",
              "      <td>NaN</td>\n",
              "      <td>NaN</td>\n",
              "      <td>3.0</td>\n",
              "    </tr>\n",
              "    <tr>\n",
              "      <th>32</th>\n",
              "      <td>239982</td>\n",
              "      <td>Business Operations Manager</td>\n",
              "      <td>Operations</td>\n",
              "      <td>In-House Interview</td>\n",
              "      <td>2018</td>\n",
              "      <td>Agency</td>\n",
              "      <td>6</td>\n",
              "      <td>Experienced</td>\n",
              "      <td>3</td>\n",
              "      <td>University of Texas</td>\n",
              "      <td>Mathematics</td>\n",
              "      <td>NaN</td>\n",
              "      <td>NaN</td>\n",
              "      <td>NaN</td>\n",
              "      <td>NaN</td>\n",
              "      <td>NaN</td>\n",
              "      <td>NaN</td>\n",
              "      <td>NaN</td>\n",
              "      <td>NaN</td>\n",
              "      <td>NaN</td>\n",
              "      <td>3.0</td>\n",
              "    </tr>\n",
              "    <tr>\n",
              "      <th>39</th>\n",
              "      <td>747636</td>\n",
              "      <td>Associate Relationship Manager</td>\n",
              "      <td>Sales</td>\n",
              "      <td>In-House Interview</td>\n",
              "      <td>2017</td>\n",
              "      <td>Campus Event</td>\n",
              "      <td>0</td>\n",
              "      <td>Campus</td>\n",
              "      <td>3</td>\n",
              "      <td>University of Texas</td>\n",
              "      <td>Political Science</td>\n",
              "      <td>3.0</td>\n",
              "      <td>NYU</td>\n",
              "      <td>Business</td>\n",
              "      <td>NaN</td>\n",
              "      <td>NaN</td>\n",
              "      <td>NaN</td>\n",
              "      <td>NaN</td>\n",
              "      <td>NaN</td>\n",
              "      <td>NaN</td>\n",
              "      <td>3.0</td>\n",
              "    </tr>\n",
              "  </tbody>\n",
              "</table>\n",
              "</div>"
            ],
            "text/plain": [
              "    Candidate ID Number                  Position Title  Department  \\\n",
              "21              3722351  Associate Relationship Manager       Sales   \n",
              "32               239982     Business Operations Manager  Operations   \n",
              "39               747636  Associate Relationship Manager       Sales   \n",
              "\n",
              "   Furthest Recruiting Stage Reached  Date of Application Application Source  \\\n",
              "21                In-House Interview                 2018   Campus Job Board   \n",
              "32                In-House Interview                 2018             Agency   \n",
              "39                In-House Interview                 2017       Campus Event   \n",
              "\n",
              "    Years of Experience Candidate Type  Education 1 Degree  \\\n",
              "21                    1         Campus                   3   \n",
              "32                    6    Experienced                   3   \n",
              "39                    0         Campus                   3   \n",
              "\n",
              "                 School              Major  Education 2 Degree School  \\\n",
              "21             Columbia         Management                 3.0    MIT   \n",
              "32  University of Texas        Mathematics                 NaN    NaN   \n",
              "39  University of Texas  Political Science                 3.0    NYU   \n",
              "\n",
              "        Major  Education 3 Degree School Major  Education 4 Degree School  \\\n",
              "21  Economics                 NaN    NaN   NaN                 NaN    NaN   \n",
              "32        NaN                 NaN    NaN   NaN                 NaN    NaN   \n",
              "39   Business                 NaN    NaN   NaN                 NaN    NaN   \n",
              "\n",
              "   Major  high_edu  \n",
              "21   NaN       3.0  \n",
              "32   NaN       3.0  \n",
              "39   NaN       3.0  "
            ]
          },
          "metadata": {
            "tags": []
          },
          "execution_count": 66
        }
      ]
    },
    {
      "cell_type": "code",
      "metadata": {
        "colab": {
          "base_uri": "https://localhost:8080/"
        },
        "id": "GpInLiigz6FY",
        "outputId": "6f7aab7b-7da1-44fa-bddf-5b59d8c67de2"
      },
      "source": [
        "# number of candidate from 'Department'=='Engineering' AND 'Application Source'=='Campus Job Board'\n",
        "dataset2[(dataset2['Department']=='Engineering')&(dataset2['Application Source']=='Campus Job Board')].shape[0]"
      ],
      "execution_count": null,
      "outputs": [
        {
          "output_type": "execute_result",
          "data": {
            "text/plain": [
              "77"
            ]
          },
          "metadata": {
            "tags": []
          },
          "execution_count": 67
        }
      ]
    },
    {
      "cell_type": "code",
      "metadata": {
        "colab": {
          "base_uri": "https://localhost:8080/",
          "height": 286
        },
        "id": "uZGouhgnyy-J",
        "outputId": "435eee39-b612-48a8-a735-7fefe127742c"
      },
      "source": [
        "pvtable_dep_source=pd.pivot_table(dataset2,\n",
        "               values='Candidate ID Number',\n",
        "               columns=['Application Source'],\n",
        "               index=['Department'],\n",
        "               aggfunc=len,\n",
        "               fill_value=0)\n",
        "pvtable_dep_source"
      ],
      "execution_count": null,
      "outputs": [
        {
          "output_type": "execute_result",
          "data": {
            "text/html": [
              "<div>\n",
              "<style scoped>\n",
              "    .dataframe tbody tr th:only-of-type {\n",
              "        vertical-align: middle;\n",
              "    }\n",
              "\n",
              "    .dataframe tbody tr th {\n",
              "        vertical-align: top;\n",
              "    }\n",
              "\n",
              "    .dataframe thead th {\n",
              "        text-align: right;\n",
              "    }\n",
              "</style>\n",
              "<table border=\"1\" class=\"dataframe\">\n",
              "  <thead>\n",
              "    <tr style=\"text-align: right;\">\n",
              "      <th>Application Source</th>\n",
              "      <th>Advertisement</th>\n",
              "      <th>Agency</th>\n",
              "      <th>Campus Event</th>\n",
              "      <th>Campus Job Board</th>\n",
              "      <th>Career Fair</th>\n",
              "      <th>Internal Referral</th>\n",
              "      <th>Outsourced</th>\n",
              "      <th>Website</th>\n",
              "    </tr>\n",
              "    <tr>\n",
              "      <th>Department</th>\n",
              "      <th></th>\n",
              "      <th></th>\n",
              "      <th></th>\n",
              "      <th></th>\n",
              "      <th></th>\n",
              "      <th></th>\n",
              "      <th></th>\n",
              "      <th></th>\n",
              "    </tr>\n",
              "  </thead>\n",
              "  <tbody>\n",
              "    <tr>\n",
              "      <th>Engineering</th>\n",
              "      <td>25</td>\n",
              "      <td>6</td>\n",
              "      <td>121</td>\n",
              "      <td>77</td>\n",
              "      <td>76</td>\n",
              "      <td>2</td>\n",
              "      <td>1</td>\n",
              "      <td>33</td>\n",
              "    </tr>\n",
              "    <tr>\n",
              "      <th>Finance</th>\n",
              "      <td>3</td>\n",
              "      <td>7</td>\n",
              "      <td>4</td>\n",
              "      <td>4</td>\n",
              "      <td>2</td>\n",
              "      <td>2</td>\n",
              "      <td>0</td>\n",
              "      <td>4</td>\n",
              "    </tr>\n",
              "    <tr>\n",
              "      <th>IT</th>\n",
              "      <td>5</td>\n",
              "      <td>4</td>\n",
              "      <td>5</td>\n",
              "      <td>7</td>\n",
              "      <td>6</td>\n",
              "      <td>0</td>\n",
              "      <td>1</td>\n",
              "      <td>8</td>\n",
              "    </tr>\n",
              "    <tr>\n",
              "      <th>Operations</th>\n",
              "      <td>12</td>\n",
              "      <td>24</td>\n",
              "      <td>2</td>\n",
              "      <td>5</td>\n",
              "      <td>7</td>\n",
              "      <td>7</td>\n",
              "      <td>20</td>\n",
              "      <td>11</td>\n",
              "    </tr>\n",
              "    <tr>\n",
              "      <th>Product</th>\n",
              "      <td>12</td>\n",
              "      <td>20</td>\n",
              "      <td>20</td>\n",
              "      <td>57</td>\n",
              "      <td>23</td>\n",
              "      <td>3</td>\n",
              "      <td>1</td>\n",
              "      <td>24</td>\n",
              "    </tr>\n",
              "    <tr>\n",
              "      <th>Sales</th>\n",
              "      <td>21</td>\n",
              "      <td>11</td>\n",
              "      <td>30</td>\n",
              "      <td>93</td>\n",
              "      <td>35</td>\n",
              "      <td>1</td>\n",
              "      <td>1</td>\n",
              "      <td>40</td>\n",
              "    </tr>\n",
              "  </tbody>\n",
              "</table>\n",
              "</div>"
            ],
            "text/plain": [
              "Application Source  Advertisement  Agency  Campus Event  Campus Job Board  \\\n",
              "Department                                                                  \n",
              "Engineering                    25       6           121                77   \n",
              "Finance                         3       7             4                 4   \n",
              "IT                              5       4             5                 7   \n",
              "Operations                     12      24             2                 5   \n",
              "Product                        12      20            20                57   \n",
              "Sales                          21      11            30                93   \n",
              "\n",
              "Application Source  Career Fair  Internal Referral  Outsourced  Website  \n",
              "Department                                                               \n",
              "Engineering                  76                  2           1       33  \n",
              "Finance                       2                  2           0        4  \n",
              "IT                            6                  0           1        8  \n",
              "Operations                    7                  7          20       11  \n",
              "Product                      23                  3           1       24  \n",
              "Sales                        35                  1           1       40  "
            ]
          },
          "metadata": {
            "tags": []
          },
          "execution_count": 68
        }
      ]
    },
    {
      "cell_type": "code",
      "metadata": {
        "colab": {
          "base_uri": "https://localhost:8080/",
          "height": 877
        },
        "id": "7okI2PSAzM7b",
        "outputId": "d38364b6-c945-40df-a68d-65c06b028c05"
      },
      "source": [
        "plt.figure(figsize=(20,15))\n",
        "sns.heatmap(pvtable_dep_source,annot=True,linewidths=.5)\n",
        "plt.show()"
      ],
      "execution_count": null,
      "outputs": [
        {
          "output_type": "display_data",
          "data": {
            "image/png": "[encoded data removed]",
            "text/plain": [
              "<Figure size 1440x1080 with 2 Axes>"
            ]
          },
          "metadata": {
            "tags": [],
            "needs_background": "light"
          }
        }
      ]
    },
    {
      "cell_type": "code",
      "metadata": {
        "id": "X73I0ZC80gyI"
      },
      "source": [
        ""
      ],
      "execution_count": null,
      "outputs": []
    },
    {
      "cell_type": "markdown",
      "metadata": {
        "id": "l57cdjCu1zt5"
      },
      "source": [
        "### Lets view From which \"Application source\"  has more \"high_education\" candidate to reach in-house or beyond stage"
      ]
    },
    {
      "cell_type": "code",
      "metadata": {
        "colab": {
          "base_uri": "https://localhost:8080/",
          "height": 192
        },
        "id": "SdpgimLW1rqK",
        "outputId": "58b0c8f6-ccec-4f9f-aa2e-d533b2945779"
      },
      "source": [
        "pvtable_edu_source=pd.pivot_table(dataset2,\n",
        "               values='Candidate ID Number',\n",
        "               columns=['Application Source'],\n",
        "               index=['high_edu'],\n",
        "               aggfunc=len,\n",
        "               fill_value=0)\n",
        "pvtable_edu_source"
      ],
      "execution_count": null,
      "outputs": [
        {
          "output_type": "execute_result",
          "data": {
            "text/html": [
              "<div>\n",
              "<style scoped>\n",
              "    .dataframe tbody tr th:only-of-type {\n",
              "        vertical-align: middle;\n",
              "    }\n",
              "\n",
              "    .dataframe tbody tr th {\n",
              "        vertical-align: top;\n",
              "    }\n",
              "\n",
              "    .dataframe thead th {\n",
              "        text-align: right;\n",
              "    }\n",
              "</style>\n",
              "<table border=\"1\" class=\"dataframe\">\n",
              "  <thead>\n",
              "    <tr style=\"text-align: right;\">\n",
              "      <th>Application Source</th>\n",
              "      <th>Advertisement</th>\n",
              "      <th>Agency</th>\n",
              "      <th>Campus Event</th>\n",
              "      <th>Campus Job Board</th>\n",
              "      <th>Career Fair</th>\n",
              "      <th>Internal Referral</th>\n",
              "      <th>Outsourced</th>\n",
              "      <th>Website</th>\n",
              "    </tr>\n",
              "    <tr>\n",
              "      <th>high_edu</th>\n",
              "      <th></th>\n",
              "      <th></th>\n",
              "      <th></th>\n",
              "      <th></th>\n",
              "      <th></th>\n",
              "      <th></th>\n",
              "      <th></th>\n",
              "      <th></th>\n",
              "    </tr>\n",
              "  </thead>\n",
              "  <tbody>\n",
              "    <tr>\n",
              "      <th>1.0</th>\n",
              "      <td>24</td>\n",
              "      <td>16</td>\n",
              "      <td>110</td>\n",
              "      <td>87</td>\n",
              "      <td>39</td>\n",
              "      <td>3</td>\n",
              "      <td>0</td>\n",
              "      <td>36</td>\n",
              "    </tr>\n",
              "    <tr>\n",
              "      <th>2.0</th>\n",
              "      <td>12</td>\n",
              "      <td>12</td>\n",
              "      <td>11</td>\n",
              "      <td>42</td>\n",
              "      <td>14</td>\n",
              "      <td>2</td>\n",
              "      <td>4</td>\n",
              "      <td>18</td>\n",
              "    </tr>\n",
              "    <tr>\n",
              "      <th>3.0</th>\n",
              "      <td>42</td>\n",
              "      <td>44</td>\n",
              "      <td>61</td>\n",
              "      <td>114</td>\n",
              "      <td>96</td>\n",
              "      <td>10</td>\n",
              "      <td>20</td>\n",
              "      <td>66</td>\n",
              "    </tr>\n",
              "  </tbody>\n",
              "</table>\n",
              "</div>"
            ],
            "text/plain": [
              "Application Source  Advertisement  Agency  Campus Event  Campus Job Board  \\\n",
              "high_edu                                                                    \n",
              "1.0                            24      16           110                87   \n",
              "2.0                            12      12            11                42   \n",
              "3.0                            42      44            61               114   \n",
              "\n",
              "Application Source  Career Fair  Internal Referral  Outsourced  Website  \n",
              "high_edu                                                                 \n",
              "1.0                          39                  3           0       36  \n",
              "2.0                          14                  2           4       18  \n",
              "3.0                          96                 10          20       66  "
            ]
          },
          "metadata": {
            "tags": []
          },
          "execution_count": 70
        }
      ]
    },
    {
      "cell_type": "code",
      "metadata": {
        "colab": {
          "base_uri": "https://localhost:8080/",
          "height": 497
        },
        "id": "0Majmf0g6Wcn",
        "outputId": "8e224571-404c-4402-c917-09e64d246bfd"
      },
      "source": [
        "plt.figure(figsize=(20,8))\n",
        "sns.heatmap(pvtable_edu_source,annot=True,linewidths=.5)\n",
        "plt.show()"
      ],
      "execution_count": null,
      "outputs": [
        {
          "output_type": "display_data",
          "data": {
            "image/png": "[encoded data removed]",
            "text/plain": [
              "<Figure size 1440x576 with 2 Axes>"
            ]
          },
          "metadata": {
            "tags": [],
            "needs_background": "light"
          }
        }
      ]
    },
    {
      "cell_type": "code",
      "metadata": {
        "id": "6Fbi-R5z6WlC"
      },
      "source": [
        ""
      ],
      "execution_count": null,
      "outputs": []
    },
    {
      "cell_type": "code",
      "metadata": {
        "colab": {
          "base_uri": "https://localhost:8080/",
          "height": 178
        },
        "id": "td9MX5oE1yj0",
        "outputId": "32dbdf19-3272-47ac-8f6f-c5300d08d419"
      },
      "source": [
        "pvtable_stage_source=pd.pivot_table(dataset2,\n",
        "               values='Candidate ID Number',\n",
        "               columns=['Application Source'],\n",
        "               index=['Furthest Recruiting Stage Reached'],\n",
        "               aggfunc=len,\n",
        "               fill_value=0)\n",
        "pvtable_stage_source"
      ],
      "execution_count": null,
      "outputs": [
        {
          "output_type": "execute_result",
          "data": {
            "text/html": [
              "<div>\n",
              "<style scoped>\n",
              "    .dataframe tbody tr th:only-of-type {\n",
              "        vertical-align: middle;\n",
              "    }\n",
              "\n",
              "    .dataframe tbody tr th {\n",
              "        vertical-align: top;\n",
              "    }\n",
              "\n",
              "    .dataframe thead th {\n",
              "        text-align: right;\n",
              "    }\n",
              "</style>\n",
              "<table border=\"1\" class=\"dataframe\">\n",
              "  <thead>\n",
              "    <tr style=\"text-align: right;\">\n",
              "      <th>Application Source</th>\n",
              "      <th>Advertisement</th>\n",
              "      <th>Agency</th>\n",
              "      <th>Campus Event</th>\n",
              "      <th>Campus Job Board</th>\n",
              "      <th>Career Fair</th>\n",
              "      <th>Internal Referral</th>\n",
              "      <th>Outsourced</th>\n",
              "      <th>Website</th>\n",
              "    </tr>\n",
              "    <tr>\n",
              "      <th>Furthest Recruiting Stage Reached</th>\n",
              "      <th></th>\n",
              "      <th></th>\n",
              "      <th></th>\n",
              "      <th></th>\n",
              "      <th></th>\n",
              "      <th></th>\n",
              "      <th></th>\n",
              "      <th></th>\n",
              "    </tr>\n",
              "  </thead>\n",
              "  <tbody>\n",
              "    <tr>\n",
              "      <th>In-House Interview</th>\n",
              "      <td>68</td>\n",
              "      <td>52</td>\n",
              "      <td>145</td>\n",
              "      <td>219</td>\n",
              "      <td>127</td>\n",
              "      <td>14</td>\n",
              "      <td>20</td>\n",
              "      <td>104</td>\n",
              "    </tr>\n",
              "    <tr>\n",
              "      <th>Offer Sent</th>\n",
              "      <td>10</td>\n",
              "      <td>20</td>\n",
              "      <td>37</td>\n",
              "      <td>24</td>\n",
              "      <td>22</td>\n",
              "      <td>1</td>\n",
              "      <td>4</td>\n",
              "      <td>16</td>\n",
              "    </tr>\n",
              "  </tbody>\n",
              "</table>\n",
              "</div>"
            ],
            "text/plain": [
              "Application Source                 Advertisement  Agency  Campus Event  \\\n",
              "Furthest Recruiting Stage Reached                                        \n",
              "In-House Interview                            68      52           145   \n",
              "Offer Sent                                    10      20            37   \n",
              "\n",
              "Application Source                 Campus Job Board  Career Fair  \\\n",
              "Furthest Recruiting Stage Reached                                  \n",
              "In-House Interview                              219          127   \n",
              "Offer Sent                                       24           22   \n",
              "\n",
              "Application Source                 Internal Referral  Outsourced  Website  \n",
              "Furthest Recruiting Stage Reached                                          \n",
              "In-House Interview                                14          20      104  \n",
              "Offer Sent                                         1           4       16  "
            ]
          },
          "metadata": {
            "tags": []
          },
          "execution_count": 72
        }
      ]
    },
    {
      "cell_type": "code",
      "metadata": {
        "colab": {
          "base_uri": "https://localhost:8080/",
          "height": 279
        },
        "id": "lE-DpqEh6HuI",
        "outputId": "c1d2f895-bb7c-4a19-bf29-8e13b12986b4"
      },
      "source": [
        "plt.figure(figsize=(20,4))\n",
        "sns.heatmap(pvtable_stage_source,annot=True,linewidths=.5)\n",
        "plt.show()"
      ],
      "execution_count": null,
      "outputs": [
        {
          "output_type": "display_data",
          "data": {
            "image/png": "[encoded data removed]",
            "text/plain": [
              "<Figure size 1440x288 with 2 Axes>"
            ]
          },
          "metadata": {
            "tags": [],
            "needs_background": "light"
          }
        }
      ]
    },
    {
      "cell_type": "code",
      "metadata": {
        "id": "QyYxWtye6_Fs"
      },
      "source": [
        ""
      ],
      "execution_count": null,
      "outputs": []
    }
  ]
}